{
 "cells": [
  {
   "cell_type": "markdown",
   "metadata": {
    "id": "9xOlo8LlyAy_"
   },
   "source": [
    "# <div align=\"center\">Analysis and modeling of whether Americans vote or not</div> #\n",
    "\n",
    "\n",
    "**<div align=\"center\">Barrett Nibling</div>**\n",
    "**<div align=\"center\">bnibling@gmail.com</div>**"
   ]
  },
  {
   "cell_type": "markdown",
   "metadata": {
    "id": "KCL_QtO_yAot"
   },
   "source": [
    "# Background"
   ]
  },
  {
   "cell_type": "markdown",
   "metadata": {
    "id": "Boqrzfx312O3"
   },
   "source": [
    "Every 2 years, a majority of American adults find themselves in the same situation come November 3rd with a decision whether or not to exercise one of their fundamental rights as a citizen in this country, voting in either the presidential and midterm elections. And for each election, millions of Americans choose the latter and decide to not cast a ballot. In fact, according to [MIT's Election Data + Science Lab](https://electionlab.mit.edu/research/voter-turnout), anywhere between 35 and 60 percent of the eligible voters in this country decide to abstain from voting come election day, with this figure varying based on numerous demographic features. \n",
    "\n",
    "So, the questions are: \n",
    "1. What makes people decided to vote or not for any given election? \n",
    "\n",
    "2. Can we predict who will vote and who will not vote from demographic and survey data? "
   ]
  },
  {
   "cell_type": "markdown",
   "metadata": {
    "id": "1b3eu56nyAd6"
   },
   "source": [
    "# Data"
   ]
  },
  {
   "cell_type": "markdown",
   "metadata": {
    "id": "oi6CsNqO49c9"
   },
   "source": [
    "This notebook uses the polling data used for the Fivethirtyeight.com article, [Why Many Americans Don't Vote](https://projects.fivethirtyeight.com/non-voters-poll-2020-election/), that was provided by Ipsos. \n",
    "\n",
    "In the polling, approximately 8000 respondents were surveyed and then matched to voter file records by Aristole to determine their voting history, which reduced the number of responses to 5836.\n",
    "\n",
    "The data includes basic demographic data:\n",
    "  1. Age\n",
    "  2. Gender\n",
    "  3. Education\n",
    "  4. Race\n",
    "  5. Income\n",
    "\n",
    "And includes responses to 33 topics about voting, government, and other political beliefs. \n",
    "\n",
    "The dataset and meta data (survey) can be found at:\n",
    " https://github.com/fivethirtyeight/data/tree/master/non-voters"
   ]
  },
  {
   "cell_type": "markdown",
   "metadata": {
    "id": "eOShxeqbxpCS"
   },
   "source": [
    "# Import libraries"
   ]
  },
  {
   "cell_type": "code",
   "execution_count": 1,
   "metadata": {
    "id": "oJ0zBDiwmUGZ"
   },
   "outputs": [
    {
     "name": "stdout",
     "output_type": "stream",
     "text": [
      "Requirement already satisfied: xgboost in /opt/anaconda3/lib/python3.8/site-packages (1.2.1)\n",
      "Requirement already satisfied: scipy in /opt/anaconda3/lib/python3.8/site-packages (from xgboost) (1.5.0)\n",
      "Requirement already satisfied: numpy in /opt/anaconda3/lib/python3.8/site-packages (from xgboost) (1.18.5)\n",
      "Requirement already satisfied: scikit-optimize in /opt/anaconda3/lib/python3.8/site-packages (0.8.1)\n",
      "Requirement already satisfied: pyaml>=16.9 in /opt/anaconda3/lib/python3.8/site-packages (from scikit-optimize) (20.4.0)\n",
      "Requirement already satisfied: numpy>=1.13.3 in /opt/anaconda3/lib/python3.8/site-packages (from scikit-optimize) (1.18.5)\n",
      "Requirement already satisfied: scipy>=0.19.1 in /opt/anaconda3/lib/python3.8/site-packages (from scikit-optimize) (1.5.0)\n",
      "Requirement already satisfied: scikit-learn>=0.20.0 in /opt/anaconda3/lib/python3.8/site-packages (from scikit-optimize) (0.23.1)\n",
      "Requirement already satisfied: joblib>=0.11 in /opt/anaconda3/lib/python3.8/site-packages (from scikit-optimize) (0.16.0)\n",
      "Requirement already satisfied: PyYAML in /opt/anaconda3/lib/python3.8/site-packages (from pyaml>=16.9->scikit-optimize) (5.3.1)\n",
      "Requirement already satisfied: threadpoolctl>=2.0.0 in /opt/anaconda3/lib/python3.8/site-packages (from scikit-learn>=0.20.0->scikit-optimize) (2.1.0)\n",
      "Requirement already up-to-date: imbalanced-learn in /opt/anaconda3/lib/python3.8/site-packages (0.7.0)\n",
      "Requirement already satisfied, skipping upgrade: scikit-learn>=0.23 in /opt/anaconda3/lib/python3.8/site-packages (from imbalanced-learn) (0.23.1)\n",
      "Requirement already satisfied, skipping upgrade: numpy>=1.13.3 in /opt/anaconda3/lib/python3.8/site-packages (from imbalanced-learn) (1.18.5)\n",
      "Requirement already satisfied, skipping upgrade: scipy>=0.19.1 in /opt/anaconda3/lib/python3.8/site-packages (from imbalanced-learn) (1.5.0)\n",
      "Requirement already satisfied, skipping upgrade: joblib>=0.11 in /opt/anaconda3/lib/python3.8/site-packages (from imbalanced-learn) (0.16.0)\n",
      "Requirement already satisfied, skipping upgrade: threadpoolctl>=2.0.0 in /opt/anaconda3/lib/python3.8/site-packages (from scikit-learn>=0.23->imbalanced-learn) (2.1.0)\n"
     ]
    }
   ],
   "source": [
    "!pip install xgboost\n",
    "!pip install scikit-optimize\n",
    "!pip install -U imbalanced-learn"
   ]
  },
  {
   "cell_type": "code",
   "execution_count": 2,
   "metadata": {
    "id": "rKL694pH_6DM"
   },
   "outputs": [],
   "source": [
    "%matplotlib inline\n",
    "\n",
    "import math\n",
    "\n",
    "import matplotlib.pyplot as plt\n",
    "import numpy as np\n",
    "import pandas as pd\n",
    "import seaborn as sns\n",
    "\n",
    "from sklearn.svm import SVC\n",
    "from sklearn.ensemble import GradientBoostingClassifier\n",
    "\n",
    "from sklearn.model_selection import (\n",
    "    train_test_split,\n",
    "    GridSearchCV\n",
    ")\n",
    "\n",
    "from skopt import BayesSearchCV\n",
    "from skopt.space import Real, Categorical, Integer\n",
    "from scipy import stats\n",
    "\n",
    "from imblearn.combine import SMOTEENN\n",
    "\n",
    "from sklearn.preprocessing import MinMaxScaler, StandardScaler, OneHotEncoder\n",
    "from sklearn.ensemble import RandomForestClassifier\n",
    "from sklearn.metrics import (\n",
    "    mean_squared_error,\n",
    "    r2_score,\n",
    "    accuracy_score,\n",
    "    mean_absolute_error,\n",
    "    plot_confusion_matrix,\n",
    "    classification_report,\n",
    ")\n",
    "\n",
    "from xgboost import XGBClassifier\n",
    "\n",
    "import warnings\n",
    "warnings.simplefilter(action='ignore', category=FutureWarning)"
   ]
  },
  {
   "cell_type": "markdown",
   "metadata": {
    "id": "FCyWQE3ZwkT7"
   },
   "source": [
    "# Data Cleaning and Feature Engineering"
   ]
  },
  {
   "cell_type": "markdown",
   "metadata": {
    "id": "tozcePJpzCoA"
   },
   "source": [
    "Read in csv file as a pandas DataFrame"
   ]
  },
  {
   "cell_type": "code",
   "execution_count": 3,
   "metadata": {
    "id": "2U8iQvKr_6Ah"
   },
   "outputs": [],
   "source": [
    "url = './nonvoters_data.csv'\n",
    "data = pd.read_csv(url)"
   ]
  },
  {
   "cell_type": "code",
   "execution_count": 4,
   "metadata": {
    "colab": {
     "base_uri": "https://localhost:8080/"
    },
    "id": "x6R4E_k0oAgr",
    "outputId": "80dfc668-cc31-40d9-fcad-f8a54847b805"
   },
   "outputs": [
    {
     "name": "stdout",
     "output_type": "stream",
     "text": [
      "<class 'pandas.core.frame.DataFrame'>\n",
      "RangeIndex: 5836 entries, 0 to 5835\n",
      "Columns: 119 entries, RespId to voter_category\n",
      "dtypes: float64(23), int64(91), object(5)\n",
      "memory usage: 5.3+ MB\n"
     ]
    }
   ],
   "source": [
    "data.info()"
   ]
  },
  {
   "cell_type": "markdown",
   "metadata": {
    "id": "RotmMVbEzJLC"
   },
   "source": [
    "Drop irrelevant features, namely ones with useless data, incomplete values, or feature dependent on other questions in the survey."
   ]
  },
  {
   "cell_type": "code",
   "execution_count": 5,
   "metadata": {
    "id": "XfMIpXhWOoca"
   },
   "outputs": [],
   "source": [
    "#Columns to Drop\n",
    "#ID, weight, US citizen, Have you already voted, Political party (based on Q30)\n",
    "drop_list = ['RespId','weight','Q1','Q21','Q22','Q31','Q32','Q33']\n",
    "\n",
    "#Thoughts on the two parties\n",
    "question_14 = ['Q14']\n",
    "question_15 = ['Q15']\n",
    "\n",
    "#Questions about whether participants voted in past elections\n",
    "question_26 = ['Q26']\n",
    "question_27 = ['Q27_1','Q27_2','Q27_3','Q27_4','Q27_5','Q27_6']\n",
    "question_28 = ['Q28_1','Q28_2','Q28_3','Q28_4','Q28_5','Q28_6','Q28_7','Q28_8']\n",
    "question_29 = ['Q29_1','Q29_2','Q29_3','Q29_4','Q29_5','Q29_6','Q29_7','Q29_8','Q29_9','Q29_10']\n",
    "\n",
    "#`Other` option for 'What do you think would get more people to vote?' \n",
    "question_19_10 = ['Q19_10']\n",
    "\n",
    "#Trump vs Biden\n",
    "question_23 = ['Q23']"
   ]
  },
  {
   "cell_type": "code",
   "execution_count": 6,
   "metadata": {
    "id": "UGN5QT94QFL-"
   },
   "outputs": [],
   "source": [
    "data.drop(drop_list, 1, inplace=True)\n",
    "data.drop(question_14+question_15, 1, inplace=True)\n",
    "data.drop(question_26+question_27+question_28+question_29, 1, inplace=True)\n",
    "data.drop(question_19_10, 1, inplace=True)\n",
    "data.drop(question_23, 1, inplace=True)"
   ]
  },
  {
   "cell_type": "markdown",
   "metadata": {
    "id": "orb84XNkz01x"
   },
   "source": [
    "Organize features by type: Ordinal, Binary, Multi-class"
   ]
  },
  {
   "cell_type": "code",
   "execution_count": 7,
   "metadata": {
    "id": "gZRGb8V0X4F-"
   },
   "outputs": [],
   "source": [
    "#How important? (Ordinal)\n",
    "question_2 = ['Q2_1', 'Q2_2', 'Q2_3', 'Q2_4', 'Q2_5', 'Q2_6', 'Q2_7', 'Q2_8', 'Q2_9', 'Q2_10']\n",
    "#Agree or Disagree (Ordinal)\n",
    "question_3 = ['Q3_1', 'Q3_2', 'Q3_3', 'Q3_4', 'Q3_5', 'Q3_6']\n",
    "#Impact (Ordinal)\n",
    "question_4 = ['Q4_1', 'Q4_2', 'Q4_3', 'Q4_4', 'Q4_5', 'Q4_6']\n",
    "#Politician like you? (Ordinal)\n",
    "question_6 = ['Q6']\n",
    "#Trust (Ordinal)\n",
    "question_8 = ['Q8_1', 'Q8_2', 'Q8_3', 'Q8_4', 'Q8_5', 'Q8_6', 'Q8_7', 'Q8_8', 'Q8_9']\n",
    "#Way of governing (Ordinal)\n",
    "question_9 = ['Q9_1', 'Q9_2', 'Q9_3', 'Q9_4']\n",
    "#Ease of voting (Ordinal)\n",
    "question_16 = ['Q16']\n",
    "#Voting confidence (Ordinal)\n",
    "question_17 = ['Q17_1', 'Q17_2', 'Q17_3', 'Q17_4']\n",
    "#Following the 2020 election (Ordinal)\n",
    "question_25 = ['Q25']"
   ]
  },
  {
   "cell_type": "code",
   "execution_count": 8,
   "metadata": {
    "id": "YAv2aopuHuzw"
   },
   "outputs": [],
   "source": [
    "#Does presidential election matter? (Binary)\n",
    "question_5 = ['Q5']\n",
    "#U.S. government needs changes? (Binary)\n",
    "question_7 = ['Q7']\n",
    "#Various conditions (Binary )\n",
    "question_10 = ['Q10_1', 'Q10_2', 'Q10_3', 'Q10_4']\n",
    "question_11 = ['Q11_1', 'Q11_2', 'Q11_3', 'Q11_4', 'Q11_5', 'Q11_6']\n",
    "question_18 = ['Q18_1', 'Q18_2', 'Q18_3', 'Q18_4', 'Q18_5', 'Q18_6', 'Q18_7', 'Q18_8', 'Q18_9', 'Q18_10']\n",
    "#Registered to vote (Binary)\n",
    "question_20 = ['Q20']"
   ]
  },
  {
   "cell_type": "code",
   "execution_count": 9,
   "metadata": {
    "id": "DrTzY3n4G5zQ"
   },
   "outputs": [],
   "source": [
    "#What do you think would get more people to vote? (Binary- Yes or Blank)\n",
    "question_19 = ['Q19_1','Q19_2','Q19_3','Q19_4','Q19_5','Q19_6','Q19_7','Q19_8','Q19_9']\n",
    "#Preferred voting method (Categorical)\n",
    "question_24 = ['Q24']\n",
    "#Political party affiliation (Categorical)\n",
    "question_30 = ['Q30']"
   ]
  },
  {
   "cell_type": "markdown",
   "metadata": {
    "id": "wcp0Do1TKcRl"
   },
   "source": [
    "Map the values for better analysis. \n",
    "\n",
    "Ordinal value ordering will be flipped 1-4:4-1 to better represent the data.\n",
    "\n",
    "Binary values will be made either 0 or 1\n",
    "\n",
    "Multi-class values will be properly encoded for future One-hot encoding.\n",
    "\n",
    "All -1 values will be replaced with NaN values to be dropped."
   ]
  },
  {
   "cell_type": "code",
   "execution_count": 10,
   "metadata": {
    "id": "dnXWUMKQYY2q"
   },
   "outputs": [],
   "source": [
    "df_encoded = data.copy()"
   ]
  },
  {
   "cell_type": "code",
   "execution_count": 11,
   "metadata": {
    "id": "EGx47LG1aWd2"
   },
   "outputs": [],
   "source": [
    "ordinal_mapping = {1:4, 2:3, 3:2, 4:1, -1:np.nan}\n",
    "bi_mapping = {1:1, 2:0, -1:np.nan}"
   ]
  },
  {
   "cell_type": "code",
   "execution_count": 12,
   "metadata": {
    "id": "eu-99tSeakBK"
   },
   "outputs": [],
   "source": [
    "df_encoded[question_2] = df_encoded[question_2].replace(ordinal_mapping)\n",
    "df_encoded[question_3] = df_encoded[question_3].replace(ordinal_mapping)\n",
    "df_encoded[question_4] = df_encoded[question_4].replace(ordinal_mapping)\n",
    "df_encoded[question_6] = df_encoded[question_6].replace(ordinal_mapping)\n",
    "df_encoded[question_8] = df_encoded[question_8].replace(ordinal_mapping)\n",
    "df_encoded[question_9] = df_encoded[question_9].replace(ordinal_mapping)\n",
    "df_encoded[question_16] = df_encoded[question_16].replace(ordinal_mapping)\n",
    "df_encoded[question_17] = df_encoded[question_17].replace(ordinal_mapping)\n",
    "df_encoded[question_25] = df_encoded[question_25].replace(ordinal_mapping)\n",
    "\n",
    "df_encoded[question_5] = df_encoded[question_5].replace(bi_mapping)\n",
    "df_encoded[question_7] = df_encoded[question_7].replace(bi_mapping)\n",
    "df_encoded[question_10] = df_encoded[question_10].replace(bi_mapping)\n",
    "df_encoded[question_11] = df_encoded[question_11].replace(bi_mapping)\n",
    "df_encoded[question_18] = df_encoded[question_18].replace(bi_mapping)\n",
    "df_encoded[question_20] = df_encoded[question_20].replace(bi_mapping)\n",
    "\n",
    "df_encoded[question_19] = df_encoded[question_19].replace({1:1, -1:0})"
   ]
  },
  {
   "cell_type": "code",
   "execution_count": 13,
   "metadata": {
    "id": "Ew-wJfydJA19"
   },
   "outputs": [],
   "source": [
    "q24_mapping = {1:'Mail-in', 2:'Early In-person', 3:'In-person', 4:'Other', -1:np.nan}\n",
    "df_encoded[question_24] = df_encoded[question_24].replace(q24_mapping)\n",
    "\n",
    "q30_mapping = {1:'Republican', 2:'Democrat', 3:'Independent', 4:'Other', 5:'No preference', -1:np.nan}\n",
    "df_encoded[question_30] = df_encoded[question_30].replace(q30_mapping)"
   ]
  },
  {
   "cell_type": "code",
   "execution_count": 14,
   "metadata": {
    "id": "6IAKV84-R25g"
   },
   "outputs": [],
   "source": [
    "df_encoded.dropna(0, inplace=True)"
   ]
  },
  {
   "cell_type": "markdown",
   "metadata": {
    "id": "kkX9--PNLnRN"
   },
   "source": [
    "Split features and the target variable.\n",
    "\n",
    "Finish encoding of categorical values."
   ]
  },
  {
   "cell_type": "code",
   "execution_count": 15,
   "metadata": {
    "id": "qOTr6RPWePn6"
   },
   "outputs": [],
   "source": [
    "X = df_encoded.drop('voter_category', 1)\n",
    "y = df_encoded['voter_category']"
   ]
  },
  {
   "cell_type": "code",
   "execution_count": 16,
   "metadata": {
    "id": "MDX6G-Fti4qG"
   },
   "outputs": [],
   "source": [
    "X_cat = pd.get_dummies(X.select_dtypes(include='O'), drop_first=True)"
   ]
  },
  {
   "cell_type": "code",
   "execution_count": 17,
   "metadata": {
    "id": "ukhburRCj0q4"
   },
   "outputs": [],
   "source": [
    "X = pd.concat([X.select_dtypes(exclude='O'), X_cat], 1)"
   ]
  },
  {
   "cell_type": "code",
   "execution_count": 18,
   "metadata": {
    "colab": {
     "base_uri": "https://localhost:8080/"
    },
    "id": "TEp2inPOkPRZ",
    "outputId": "b64557f7-f338-4a83-d636-17aa42f1570c"
   },
   "outputs": [
    {
     "data": {
      "text/plain": [
       "sporadic        2257\n",
       "always          1600\n",
       "rarely/never    1244\n",
       "Name: voter_category, dtype: int64"
      ]
     },
     "execution_count": 18,
     "metadata": {},
     "output_type": "execute_result"
    }
   ],
   "source": [
    "y.value_counts()"
   ]
  },
  {
   "cell_type": "code",
   "execution_count": 19,
   "metadata": {
    "colab": {
     "base_uri": "https://localhost:8080/"
    },
    "id": "d0Yp31d9l4al",
    "outputId": "23d8063d-b933-4268-ff47-7974d1f74baf"
   },
   "outputs": [
    {
     "data": {
      "text/plain": [
       "0    3857\n",
       "1    1244\n",
       "Name: voter_category, dtype: int64"
      ]
     },
     "execution_count": 19,
     "metadata": {},
     "output_type": "execute_result"
    }
   ],
   "source": [
    "voter_map = {'always':0, 'sporadic':0, 'rarely/never':1}\n",
    "y = y.replace(voter_map)\n",
    "y.value_counts()"
   ]
  },
  {
   "cell_type": "markdown",
   "metadata": {
    "id": "sWcEuHF8MrK5"
   },
   "source": [
    "Check for Collinearity in the feature variables and drop any above 0.8"
   ]
  },
  {
   "cell_type": "code",
   "execution_count": 20,
   "metadata": {
    "colab": {
     "base_uri": "https://localhost:8080/",
     "height": 348
    },
    "id": "FntPdrEBqbMG",
    "outputId": "7406e294-0e03-47a0-9693-cc9335c1b699"
   },
   "outputs": [
    {
     "data": {
      "text/html": [
       "<div>\n",
       "<style scoped>\n",
       "    .dataframe tbody tr th:only-of-type {\n",
       "        vertical-align: middle;\n",
       "    }\n",
       "\n",
       "    .dataframe tbody tr th {\n",
       "        vertical-align: top;\n",
       "    }\n",
       "\n",
       "    .dataframe thead th {\n",
       "        text-align: right;\n",
       "    }\n",
       "</style>\n",
       "<table border=\"1\" class=\"dataframe\">\n",
       "  <thead>\n",
       "    <tr style=\"text-align: right;\">\n",
       "      <th></th>\n",
       "      <th>variable</th>\n",
       "      <th>value</th>\n",
       "    </tr>\n",
       "  </thead>\n",
       "  <tbody>\n",
       "    <tr>\n",
       "      <th>278</th>\n",
       "      <td>Q2_4</td>\n",
       "      <td>0.706598</td>\n",
       "    </tr>\n",
       "    <tr>\n",
       "      <th>458</th>\n",
       "      <td>Q2_6</td>\n",
       "      <td>0.706598</td>\n",
       "    </tr>\n",
       "    <tr>\n",
       "      <th>921</th>\n",
       "      <td>Q3_1</td>\n",
       "      <td>0.704708</td>\n",
       "    </tr>\n",
       "    <tr>\n",
       "      <th>1011</th>\n",
       "      <td>Q3_2</td>\n",
       "      <td>0.704708</td>\n",
       "    </tr>\n",
       "    <tr>\n",
       "      <th>1655</th>\n",
       "      <td>Q4_3</td>\n",
       "      <td>0.671211</td>\n",
       "    </tr>\n",
       "    <tr>\n",
       "      <th>1565</th>\n",
       "      <td>Q4_2</td>\n",
       "      <td>0.671211</td>\n",
       "    </tr>\n",
       "    <tr>\n",
       "      <th>1473</th>\n",
       "      <td>Q4_1</td>\n",
       "      <td>0.649982</td>\n",
       "    </tr>\n",
       "    <tr>\n",
       "      <th>1563</th>\n",
       "      <td>Q4_2</td>\n",
       "      <td>0.649982</td>\n",
       "    </tr>\n",
       "    <tr>\n",
       "      <th>1214</th>\n",
       "      <td>Q3_4</td>\n",
       "      <td>0.631016</td>\n",
       "    </tr>\n",
       "    <tr>\n",
       "      <th>2834</th>\n",
       "      <td>Q8_7</td>\n",
       "      <td>0.631016</td>\n",
       "    </tr>\n",
       "  </tbody>\n",
       "</table>\n",
       "</div>"
      ],
      "text/plain": [
       "     variable     value\n",
       "278      Q2_4  0.706598\n",
       "458      Q2_6  0.706598\n",
       "921      Q3_1  0.704708\n",
       "1011     Q3_2  0.704708\n",
       "1655     Q4_3  0.671211\n",
       "1565     Q4_2  0.671211\n",
       "1473     Q4_1  0.649982\n",
       "1563     Q4_2  0.649982\n",
       "1214     Q3_4  0.631016\n",
       "2834     Q8_7  0.631016"
      ]
     },
     "execution_count": 20,
     "metadata": {},
     "output_type": "execute_result"
    }
   ],
   "source": [
    "corr_table = pd.melt(X.corr())\n",
    "corr_table = corr_table[corr_table['value'] != 1.0]\n",
    "corr_table['value'] = np.abs(corr_table['value'])\n",
    "corr_table.sort_values('value', ascending=False).head(10)"
   ]
  },
  {
   "cell_type": "markdown",
   "metadata": {
    "id": "MLcwtFRgM4ia"
   },
   "source": [
    "See if there are any features with strong correlation with the target."
   ]
  },
  {
   "cell_type": "code",
   "execution_count": 21,
   "metadata": {
    "colab": {
     "base_uri": "https://localhost:8080/"
    },
    "id": "IJ7cZ77mr27n",
    "outputId": "aca7107a-ce48-4afc-b147-1e8d74b3cac4"
   },
   "outputs": [
    {
     "data": {
      "text/plain": [
       "Q20                  0.471996\n",
       "Q2_1                 0.401445\n",
       "Q25                  0.313792\n",
       "ppage                0.312707\n",
       "Q2_2                 0.255542\n",
       "Q2_3                 0.247786\n",
       "Q30_No preference    0.233360\n",
       "Q2_5                 0.227651\n",
       "Q5                   0.225046\n",
       "Q9_1                 0.213064\n",
       "dtype: float64"
      ]
     },
     "execution_count": 21,
     "metadata": {},
     "output_type": "execute_result"
    }
   ],
   "source": [
    "corr_target = np.abs(X.corrwith(y)).sort_values(ascending=False)\n",
    "corr_target[:10]"
   ]
  },
  {
   "cell_type": "markdown",
   "metadata": {
    "id": "MlmZsXnPNDJT"
   },
   "source": [
    "# Train Test Split"
   ]
  },
  {
   "cell_type": "code",
   "execution_count": 22,
   "metadata": {
    "id": "don8kIY0mJWM"
   },
   "outputs": [],
   "source": [
    "X_train, X_test, y_train, y_test = train_test_split(X, y, test_size=0.2)"
   ]
  },
  {
   "cell_type": "code",
   "execution_count": 23,
   "metadata": {
    "id": "8AXT4xPgA22K"
   },
   "outputs": [],
   "source": [
    "smote = SMOTEENN(sampling_strategy=0.75)\n",
    "\n",
    "X_train_samp, y_train_samp = smote.fit_resample(X_train, y_train)"
   ]
  },
  {
   "cell_type": "code",
   "execution_count": 24,
   "metadata": {
    "id": "H_csXvAqp6dj"
   },
   "outputs": [],
   "source": [
    "scaler = StandardScaler()\n",
    "\n",
    "X_train_scaled = scaler.fit_transform(X_train)\n",
    "X_test_scaled = scaler.transform(X_test)"
   ]
  },
  {
   "cell_type": "code",
   "execution_count": 25,
   "metadata": {
    "id": "eCOsGl75T3cc"
   },
   "outputs": [],
   "source": [
    "def get_scores(model, X_train, X_test, y_train, y_test, verbose=False):\n",
    "  if verbose:\n",
    "    print('\\nTraining Scores:')\n",
    "    print(f'Score: {model.score(X_train, y_train)}')\n",
    "    print(f'Accuracy: {accuracy_score(y_train, model.predict(X_train))}')\n",
    "    print(f'Mean Squared Error: {mean_squared_error(y_train, model.predict(X_train))}')\n",
    "    print(f'Mean Absolute Error: {mean_absolute_error(y_train, model.predict(X_train))}')\n",
    "    print(f'\\nTest Scores:')\n",
    "    print(f'Score: {model.score(X_test, y_test)}')\n",
    "    print(f'Accuracy: {accuracy_score(y_test, model.predict(X_test))}')\n",
    "    print(f'Mean Squared Error: {mean_squared_error(y_test, model.predict(X_test))}')\n",
    "    print(f'Mean Absolute Error: {mean_absolute_error(y_test, model.predict(X_test))}')\n",
    "\n",
    "def get_class_report(model, X_train, X_test, y_train, y_test):\n",
    "  print(f'\\nTraining Report:\\n {classification_report(y_train, model.predict(X_train))}')\n",
    "  print(f'\\nTest Report:\\n {classification_report(y_test, model.predict(X_test))}')"
   ]
  },
  {
   "cell_type": "markdown",
   "metadata": {
    "id": "OvWbkqqWNKzv"
   },
   "source": [
    "# Linear Support Vector Classification \n",
    "\n",
    "Namely to check best coefficients"
   ]
  },
  {
   "cell_type": "code",
   "execution_count": 26,
   "metadata": {
    "colab": {
     "base_uri": "https://localhost:8080/"
    },
    "id": "SD_YaJvThf8h",
    "outputId": "4d5faa62-dc2a-456c-b982-13043dad6d7a"
   },
   "outputs": [
    {
     "data": {
      "text/plain": [
       "GridSearchCV(cv=3, estimator=SVC(), n_jobs=-1,\n",
       "             param_grid={'C': array([ 0.1,  1. , 10. ]),\n",
       "                         'class_weight': ['balanced', None],\n",
       "                         'gamma': ['scale', 'auto'], 'kernel': ['linear']},\n",
       "             scoring='f1')"
      ]
     },
     "execution_count": 26,
     "metadata": {},
     "output_type": "execute_result"
    }
   ],
   "source": [
    "svc = SVC()\n",
    "\n",
    "params = {'C': np.logspace(-1,1,3),\n",
    "          'kernel': ['linear'],\n",
    "          'gamma': ['scale', 'auto'],\n",
    "          'class_weight': ['balanced', None]}\n",
    "\n",
    "svc_lin_grid = GridSearchCV(svc, params, cv=3, scoring='f1', n_jobs=-1)\n",
    "\n",
    "svc_lin_grid.fit(X_train, y_train)"
   ]
  },
  {
   "cell_type": "code",
   "execution_count": 27,
   "metadata": {
    "colab": {
     "base_uri": "https://localhost:8080/"
    },
    "id": "3wFrAJPsh4Lp",
    "outputId": "acd3a278-0b21-4ecf-fa2c-c93950126678"
   },
   "outputs": [
    {
     "data": {
      "text/plain": [
       "{'C': 0.1, 'class_weight': 'balanced', 'gamma': 'scale', 'kernel': 'linear'}"
      ]
     },
     "execution_count": 27,
     "metadata": {},
     "output_type": "execute_result"
    }
   ],
   "source": [
    "svc_lin_grid.best_params_"
   ]
  },
  {
   "cell_type": "code",
   "execution_count": 28,
   "metadata": {
    "colab": {
     "base_uri": "https://localhost:8080/",
     "height": 885
    },
    "id": "aWjZn1j6hopS",
    "outputId": "352e7b29-7b85-4e09-d2f1-cc4380ca6f86"
   },
   "outputs": [
    {
     "name": "stdout",
     "output_type": "stream",
     "text": [
      "\n",
      "Training Scores:\n",
      "Score: 0.6402877697841727\n",
      "Accuracy: 0.803921568627451\n",
      "Mean Squared Error: 0.19607843137254902\n",
      "Mean Absolute Error: 0.19607843137254902\n",
      "\n",
      "Test Scores:\n",
      "Score: 0.5984848484848485\n",
      "Accuracy: 0.7923604309500489\n",
      "Mean Squared Error: 0.20763956904995104\n",
      "Mean Absolute Error: 0.20763956904995104\n",
      "\n",
      "Training Report:\n",
      "               precision    recall  f1-score   support\n",
      "\n",
      "           0       0.90      0.83      0.87      3080\n",
      "           1       0.58      0.71      0.64      1000\n",
      "\n",
      "    accuracy                           0.80      4080\n",
      "   macro avg       0.74      0.77      0.75      4080\n",
      "weighted avg       0.82      0.80      0.81      4080\n",
      "\n",
      "\n",
      "Test Report:\n",
      "               precision    recall  f1-score   support\n",
      "\n",
      "           0       0.88      0.84      0.86       777\n",
      "           1       0.56      0.65      0.60       244\n",
      "\n",
      "    accuracy                           0.79      1021\n",
      "   macro avg       0.72      0.74      0.73      1021\n",
      "weighted avg       0.81      0.79      0.80      1021\n",
      "\n"
     ]
    },
    {
     "data": {
      "image/png": "[encoded data removed]",
      "text/plain": [
       "<Figure size 432x288 with 4 Axes>"
      ]
     },
     "metadata": {
      "needs_background": "light"
     },
     "output_type": "display_data"
    }
   ],
   "source": [
    "get_scores(svc_lin_grid, X_train, X_test, y_train, y_test, verbose=True)\n",
    "get_class_report(svc_lin_grid, X_train, X_test, y_train, y_test)\n",
    "ax1 = plt.subplot(121)\n",
    "plot_confusion_matrix(svc_lin_grid, X_train, y_train, values_format='.2f', ax=ax1, cmap='mako')\n",
    "plt.title('Training Data')\n",
    "\n",
    "ax2 = plt.subplot(122)\n",
    "plot_confusion_matrix(svc_lin_grid, X_test, y_test, values_format='.2f', ax=ax2, cmap='mako')\n",
    "plt.title('Test Data')\n",
    "\n",
    "plt.tight_layout()\n",
    "plt.show()"
   ]
  },
  {
   "cell_type": "code",
   "execution_count": 29,
   "metadata": {
    "colab": {
     "base_uri": "https://localhost:8080/",
     "height": 265
    },
    "id": "oFj2BLe6hfyM",
    "outputId": "0f76002a-d9f1-424d-f207-4cb237a2e16d"
   },
   "outputs": [
    {
     "data": {
      "image/png": "[encoded data removed]",
      "text/plain": [
       "<Figure size 432x288 with 1 Axes>"
      ]
     },
     "metadata": {
      "needs_background": "light"
     },
     "output_type": "display_data"
    }
   ],
   "source": [
    "feature_svc_coef = pd.Series(abs(svc_lin_grid.best_estimator_.coef_[0]), index=X_train.columns)\n",
    "feature_svc_coef.sort_values(ascending=False).nlargest(15).plot(kind='barh')\n",
    "plt.show()"
   ]
  },
  {
   "cell_type": "markdown",
   "metadata": {
    "id": "FN1UDaElrGot"
   },
   "source": [
    "# Random Forest Classifier\n",
    "\n",
    "To look how well the model fits and the `feature_importances`"
   ]
  },
  {
   "cell_type": "code",
   "execution_count": 30,
   "metadata": {
    "colab": {
     "base_uri": "https://localhost:8080/"
    },
    "id": "uDtvYmc5rHBH",
    "outputId": "ca85ec13-907a-48c0-9c3d-0d7535781085"
   },
   "outputs": [
    {
     "data": {
      "text/plain": [
       "GridSearchCV(cv=5, estimator=RandomForestClassifier(criterion='entropy'),\n",
       "             param_grid={'max_depth': [5, 10, 15, 20],\n",
       "                         'max_features': ['sqrt', 0.5, None],\n",
       "                         'min_samples_split': [10, 25, 50]})"
      ]
     },
     "execution_count": 30,
     "metadata": {},
     "output_type": "execute_result"
    }
   ],
   "source": [
    "params = {'max_depth': [5, 10, 15, 20], 'min_samples_split': [10, 25, 50], 'max_features': ['sqrt', 0.5, None]}\n",
    "\n",
    "forest = RandomForestClassifier(criterion='entropy')\n",
    "\n",
    "forest_grid = GridSearchCV(forest, param_grid = params, cv=5)\n",
    "\n",
    "forest_grid.fit(X_train, y_train)"
   ]
  },
  {
   "cell_type": "code",
   "execution_count": 31,
   "metadata": {
    "colab": {
     "base_uri": "https://localhost:8080/"
    },
    "id": "vj_0-K00rZ7M",
    "outputId": "46db35be-748f-40de-8042-2b4ef6306f0a"
   },
   "outputs": [
    {
     "data": {
      "text/plain": [
       "{'max_depth': 20, 'max_features': 'sqrt', 'min_samples_split': 10}"
      ]
     },
     "execution_count": 31,
     "metadata": {},
     "output_type": "execute_result"
    }
   ],
   "source": [
    "forest_grid.best_params_"
   ]
  },
  {
   "cell_type": "code",
   "execution_count": 32,
   "metadata": {
    "colab": {
     "base_uri": "https://localhost:8080/",
     "height": 885
    },
    "id": "qJHK53n-rbwH",
    "outputId": "02946e73-8de5-4c7a-998c-d3f43edc6274"
   },
   "outputs": [
    {
     "name": "stdout",
     "output_type": "stream",
     "text": [
      "\n",
      "Training Scores:\n",
      "Score: 0.9375\n",
      "Accuracy: 0.9375\n",
      "Mean Squared Error: 0.0625\n",
      "Mean Absolute Error: 0.0625\n",
      "\n",
      "Test Scores:\n",
      "Score: 0.8442703232125367\n",
      "Accuracy: 0.8442703232125367\n",
      "Mean Squared Error: 0.15572967678746327\n",
      "Mean Absolute Error: 0.15572967678746327\n",
      "\n",
      "Training Report:\n",
      "               precision    recall  f1-score   support\n",
      "\n",
      "           0       0.93      1.00      0.96      3080\n",
      "           1       0.99      0.75      0.86      1000\n",
      "\n",
      "    accuracy                           0.94      4080\n",
      "   macro avg       0.96      0.88      0.91      4080\n",
      "weighted avg       0.94      0.94      0.93      4080\n",
      "\n",
      "\n",
      "Test Report:\n",
      "               precision    recall  f1-score   support\n",
      "\n",
      "           0       0.84      0.98      0.91       777\n",
      "           1       0.85      0.43      0.57       244\n",
      "\n",
      "    accuracy                           0.84      1021\n",
      "   macro avg       0.84      0.70      0.74      1021\n",
      "weighted avg       0.84      0.84      0.82      1021\n",
      "\n"
     ]
    },
    {
     "data": {
      "image/png": "[encoded data removed]",
      "text/plain": [
       "<Figure size 432x288 with 4 Axes>"
      ]
     },
     "metadata": {
      "needs_background": "light"
     },
     "output_type": "display_data"
    }
   ],
   "source": [
    "get_scores(forest_grid, X_train, X_test, y_train, y_test, verbose=True)\n",
    "get_class_report(forest_grid, X_train, X_test, y_train, y_test)\n",
    "ax1 = plt.subplot(121)\n",
    "plot_confusion_matrix(forest_grid, X_train, y_train, values_format='.2f', ax=ax1, cmap='mako')\n",
    "plt.title('Training Data')\n",
    "\n",
    "ax2 = plt.subplot(122)\n",
    "plot_confusion_matrix(forest_grid, X_test, y_test, values_format='.2f', ax=ax2, cmap='mako')\n",
    "plt.title('Test Data')\n",
    "\n",
    "plt.tight_layout()\n",
    "plt.show()"
   ]
  },
  {
   "cell_type": "code",
   "execution_count": 33,
   "metadata": {
    "colab": {
     "base_uri": "https://localhost:8080/",
     "height": 348
    },
    "id": "GB9d5VUsrgZD",
    "outputId": "bf03ac02-1a04-46af-890c-cc7393379ee1"
   },
   "outputs": [
    {
     "data": {
      "text/html": [
       "<div>\n",
       "<style scoped>\n",
       "    .dataframe tbody tr th:only-of-type {\n",
       "        vertical-align: middle;\n",
       "    }\n",
       "\n",
       "    .dataframe tbody tr th {\n",
       "        vertical-align: top;\n",
       "    }\n",
       "\n",
       "    .dataframe thead th {\n",
       "        text-align: right;\n",
       "    }\n",
       "</style>\n",
       "<table border=\"1\" class=\"dataframe\">\n",
       "  <thead>\n",
       "    <tr style=\"text-align: right;\">\n",
       "      <th></th>\n",
       "      <th>columns</th>\n",
       "      <th>importance scores</th>\n",
       "    </tr>\n",
       "  </thead>\n",
       "  <tbody>\n",
       "    <tr>\n",
       "      <th>72</th>\n",
       "      <td>Q20</td>\n",
       "      <td>0.096332</td>\n",
       "    </tr>\n",
       "    <tr>\n",
       "      <th>74</th>\n",
       "      <td>ppage</td>\n",
       "      <td>0.087584</td>\n",
       "    </tr>\n",
       "    <tr>\n",
       "      <th>0</th>\n",
       "      <td>Q2_1</td>\n",
       "      <td>0.057714</td>\n",
       "    </tr>\n",
       "    <tr>\n",
       "      <th>73</th>\n",
       "      <td>Q25</td>\n",
       "      <td>0.030423</td>\n",
       "    </tr>\n",
       "    <tr>\n",
       "      <th>48</th>\n",
       "      <td>Q16</td>\n",
       "      <td>0.026222</td>\n",
       "    </tr>\n",
       "    <tr>\n",
       "      <th>1</th>\n",
       "      <td>Q2_2</td>\n",
       "      <td>0.021082</td>\n",
       "    </tr>\n",
       "    <tr>\n",
       "      <th>23</th>\n",
       "      <td>Q6</td>\n",
       "      <td>0.017297</td>\n",
       "    </tr>\n",
       "    <tr>\n",
       "      <th>37</th>\n",
       "      <td>Q9_4</td>\n",
       "      <td>0.016070</td>\n",
       "    </tr>\n",
       "    <tr>\n",
       "      <th>2</th>\n",
       "      <td>Q2_3</td>\n",
       "      <td>0.015644</td>\n",
       "    </tr>\n",
       "    <tr>\n",
       "      <th>35</th>\n",
       "      <td>Q9_2</td>\n",
       "      <td>0.014913</td>\n",
       "    </tr>\n",
       "  </tbody>\n",
       "</table>\n",
       "</div>"
      ],
      "text/plain": [
       "   columns  importance scores\n",
       "72     Q20           0.096332\n",
       "74   ppage           0.087584\n",
       "0     Q2_1           0.057714\n",
       "73     Q25           0.030423\n",
       "48     Q16           0.026222\n",
       "1     Q2_2           0.021082\n",
       "23      Q6           0.017297\n",
       "37    Q9_4           0.016070\n",
       "2     Q2_3           0.015644\n",
       "35    Q9_2           0.014913"
      ]
     },
     "execution_count": 33,
     "metadata": {},
     "output_type": "execute_result"
    }
   ],
   "source": [
    "forest_feature_importances = pd.DataFrame({'columns': X_train.columns, 'importance scores':forest_grid.best_estimator_.feature_importances_}).sort_values(\n",
    "    by='importance scores', ascending=False)\n",
    "\n",
    "forest_feature_importances.head(10)"
   ]
  },
  {
   "cell_type": "markdown",
   "metadata": {
    "id": "_pWwF2BFhwHf"
   },
   "source": [
    "# Gradient Boosting Classifier\n",
    "\n",
    "To look how well the model fits and the `feature_importances`"
   ]
  },
  {
   "cell_type": "code",
   "execution_count": 34,
   "metadata": {
    "colab": {
     "base_uri": "https://localhost:8080/"
    },
    "id": "rAbji0fATu3F",
    "outputId": "0f202194-9958-49f8-8e2f-7032394f20bd"
   },
   "outputs": [
    {
     "data": {
      "text/plain": [
       "GridSearchCV(cv=3,\n",
       "             estimator=GradientBoostingClassifier(n_estimators=10000,\n",
       "                                                  n_iter_no_change=100),\n",
       "             n_jobs=-1,\n",
       "             param_grid={'learning_rate': array([0.025]), 'max_depth': [3],\n",
       "                         'max_features': [None, 'sqrt'],\n",
       "                         'subsample': array([0.4, 0.6, 0.8, 1. ])},\n",
       "             scoring='f1')"
      ]
     },
     "execution_count": 34,
     "metadata": {},
     "output_type": "execute_result"
    }
   ],
   "source": [
    "gbc = GradientBoostingClassifier(n_iter_no_change=100, n_estimators=10000)\n",
    "\n",
    "params = {'learning_rate': np.arange(0.025, 0.125, 0.25),\n",
    "          'max_depth': [3],\n",
    "          'subsample': np.arange(0.4, 1.1,0.2),\n",
    "          'max_features': [None, 'sqrt']}\n",
    "\n",
    "gbc_grid = GridSearchCV(gbc, params, cv=3, scoring='f1', n_jobs=-1)\n",
    "\n",
    "gbc_grid.fit(X_train, y_train)"
   ]
  },
  {
   "cell_type": "code",
   "execution_count": 35,
   "metadata": {
    "colab": {
     "base_uri": "https://localhost:8080/"
    },
    "id": "Qv_UzgTOkFuI",
    "outputId": "9b1ef49a-396c-401e-f18d-1d8bfb5c02ef"
   },
   "outputs": [
    {
     "data": {
      "text/plain": [
       "{'learning_rate': 0.025,\n",
       " 'max_depth': 3,\n",
       " 'max_features': None,\n",
       " 'subsample': 0.4}"
      ]
     },
     "execution_count": 35,
     "metadata": {},
     "output_type": "execute_result"
    }
   ],
   "source": [
    "gbc_grid.best_params_"
   ]
  },
  {
   "cell_type": "code",
   "execution_count": 36,
   "metadata": {
    "colab": {
     "base_uri": "https://localhost:8080/",
     "height": 885
    },
    "id": "0Vg1RVM9T0nC",
    "outputId": "0b260bab-62a7-4687-ad92-33f8483215b6"
   },
   "outputs": [
    {
     "name": "stdout",
     "output_type": "stream",
     "text": [
      "\n",
      "Training Scores:\n",
      "Score: 0.6937537901758641\n",
      "Accuracy: 0.8762254901960784\n",
      "Mean Squared Error: 0.12377450980392157\n",
      "Mean Absolute Error: 0.12377450980392157\n",
      "\n",
      "Test Scores:\n",
      "Score: 0.6005089058524173\n",
      "Accuracy: 0.8462291870714985\n",
      "Mean Squared Error: 0.15377081292850148\n",
      "Mean Absolute Error: 0.15377081292850148\n",
      "\n",
      "Training Report:\n",
      "               precision    recall  f1-score   support\n",
      "\n",
      "           0       0.88      0.97      0.92      3080\n",
      "           1       0.88      0.57      0.69      1000\n",
      "\n",
      "    accuracy                           0.88      4080\n",
      "   macro avg       0.88      0.77      0.81      4080\n",
      "weighted avg       0.88      0.88      0.87      4080\n",
      "\n",
      "\n",
      "Test Report:\n",
      "               precision    recall  f1-score   support\n",
      "\n",
      "           0       0.86      0.96      0.90       777\n",
      "           1       0.79      0.48      0.60       244\n",
      "\n",
      "    accuracy                           0.85      1021\n",
      "   macro avg       0.82      0.72      0.75      1021\n",
      "weighted avg       0.84      0.85      0.83      1021\n",
      "\n"
     ]
    },
    {
     "data": {
      "image/png": "[encoded data removed]",
      "text/plain": [
       "<Figure size 432x288 with 4 Axes>"
      ]
     },
     "metadata": {
      "needs_background": "light"
     },
     "output_type": "display_data"
    }
   ],
   "source": [
    "get_scores(gbc_grid, X_train, X_test, y_train, y_test, verbose=True)\n",
    "get_class_report(gbc_grid, X_train, X_test, y_train, y_test)\n",
    "ax1 = plt.subplot(121)\n",
    "plot_confusion_matrix(gbc_grid, X_train, y_train, values_format='.2f', ax=ax1, cmap='mako')\n",
    "plt.title('Training Data')\n",
    "\n",
    "ax2 = plt.subplot(122)\n",
    "plot_confusion_matrix(gbc_grid, X_test, y_test, values_format='.2f', ax=ax2, cmap='mako')\n",
    "plt.title('Test Data')\n",
    "\n",
    "plt.tight_layout()\n",
    "plt.show()"
   ]
  },
  {
   "cell_type": "code",
   "execution_count": 37,
   "metadata": {
    "colab": {
     "base_uri": "https://localhost:8080/",
     "height": 348
    },
    "id": "msYnq3EVqDvY",
    "outputId": "7112b1e0-0f42-4643-a77b-e85c4944c5c4"
   },
   "outputs": [
    {
     "data": {
      "text/html": [
       "<div>\n",
       "<style scoped>\n",
       "    .dataframe tbody tr th:only-of-type {\n",
       "        vertical-align: middle;\n",
       "    }\n",
       "\n",
       "    .dataframe tbody tr th {\n",
       "        vertical-align: top;\n",
       "    }\n",
       "\n",
       "    .dataframe thead th {\n",
       "        text-align: right;\n",
       "    }\n",
       "</style>\n",
       "<table border=\"1\" class=\"dataframe\">\n",
       "  <thead>\n",
       "    <tr style=\"text-align: right;\">\n",
       "      <th></th>\n",
       "      <th>columns</th>\n",
       "      <th>importance scores</th>\n",
       "    </tr>\n",
       "  </thead>\n",
       "  <tbody>\n",
       "    <tr>\n",
       "      <th>72</th>\n",
       "      <td>Q20</td>\n",
       "      <td>0.263794</td>\n",
       "    </tr>\n",
       "    <tr>\n",
       "      <th>74</th>\n",
       "      <td>ppage</td>\n",
       "      <td>0.160120</td>\n",
       "    </tr>\n",
       "    <tr>\n",
       "      <th>0</th>\n",
       "      <td>Q2_1</td>\n",
       "      <td>0.075738</td>\n",
       "    </tr>\n",
       "    <tr>\n",
       "      <th>48</th>\n",
       "      <td>Q16</td>\n",
       "      <td>0.020107</td>\n",
       "    </tr>\n",
       "    <tr>\n",
       "      <th>55</th>\n",
       "      <td>Q18_3</td>\n",
       "      <td>0.018518</td>\n",
       "    </tr>\n",
       "    <tr>\n",
       "      <th>37</th>\n",
       "      <td>Q9_4</td>\n",
       "      <td>0.013947</td>\n",
       "    </tr>\n",
       "    <tr>\n",
       "      <th>73</th>\n",
       "      <td>Q25</td>\n",
       "      <td>0.013633</td>\n",
       "    </tr>\n",
       "    <tr>\n",
       "      <th>82</th>\n",
       "      <td>educ_High school or less</td>\n",
       "      <td>0.013253</td>\n",
       "    </tr>\n",
       "    <tr>\n",
       "      <th>1</th>\n",
       "      <td>Q2_2</td>\n",
       "      <td>0.012022</td>\n",
       "    </tr>\n",
       "    <tr>\n",
       "      <th>52</th>\n",
       "      <td>Q17_4</td>\n",
       "      <td>0.011681</td>\n",
       "    </tr>\n",
       "  </tbody>\n",
       "</table>\n",
       "</div>"
      ],
      "text/plain": [
       "                     columns  importance scores\n",
       "72                       Q20           0.263794\n",
       "74                     ppage           0.160120\n",
       "0                       Q2_1           0.075738\n",
       "48                       Q16           0.020107\n",
       "55                     Q18_3           0.018518\n",
       "37                      Q9_4           0.013947\n",
       "73                       Q25           0.013633\n",
       "82  educ_High school or less           0.013253\n",
       "1                       Q2_2           0.012022\n",
       "52                     Q17_4           0.011681"
      ]
     },
     "execution_count": 37,
     "metadata": {},
     "output_type": "execute_result"
    }
   ],
   "source": [
    "gbc_feature_importances = pd.DataFrame({'columns': X_train.columns, 'importance scores':gbc_grid.best_estimator_.feature_importances_}).sort_values(\n",
    "    by='importance scores', ascending=False)\n",
    "\n",
    "gbc_feature_importances.head(10)"
   ]
  },
  {
   "cell_type": "markdown",
   "metadata": {
    "id": "ZtzSN_P-lCkA"
   },
   "source": [
    "# XGBoost Classifier\n",
    "\n",
    "To look how well the model fits and the `feature_importances`"
   ]
  },
  {
   "cell_type": "code",
   "execution_count": 38,
   "metadata": {
    "colab": {
     "base_uri": "https://localhost:8080/"
    },
    "id": "YBeuNe6ZmYaQ",
    "outputId": "bc256f0c-ac15-4b7a-d191-c38785d6786a"
   },
   "outputs": [
    {
     "name": "stdout",
     "output_type": "stream",
     "text": [
      "[00:27:58] WARNING: /Users/travis/build/dmlc/xgboost/src/learner.cc:516: \n",
      "Parameters: { n_iter_no_change } might not be used.\n",
      "\n",
      "  This may not be accurate due to some parameters are only used in language bindings but\n",
      "  passed down to XGBoost core.  Or some parameters are not used but slip through this\n",
      "  verification. Please open an issue if you find above cases.\n",
      "\n",
      "\n"
     ]
    },
    {
     "data": {
      "text/plain": [
       "GridSearchCV(cv=3,\n",
       "             estimator=XGBClassifier(base_score=None, booster=None,\n",
       "                                     colsample_bylevel=None,\n",
       "                                     colsample_bynode=None,\n",
       "                                     colsample_bytree=None, gamma=None,\n",
       "                                     gpu_id=None, importance_type='gain',\n",
       "                                     interaction_constraints=None,\n",
       "                                     learning_rate=None, max_delta_step=None,\n",
       "                                     max_depth=None, min_child_weight=None,\n",
       "                                     missing=nan, monotone_constraints=None,\n",
       "                                     n_estimators=1000, n_iter_no_change=50,\n",
       "                                     n_jobs=None, num_parallel_tree=None,\n",
       "                                     random_state=None, reg_alpha=None,\n",
       "                                     reg_lambda=None, scale_pos_weight=None,\n",
       "                                     subsample=None, tree_method=None,\n",
       "                                     validate_parameters=None, verbosity=None),\n",
       "             n_jobs=-1,\n",
       "             param_grid={'learning_rate': array([0.025]), 'max_depth': [3],\n",
       "                         'max_features': [None, 'sqrt'],\n",
       "                         'subsample': array([0.4, 0.6, 0.8, 1. ])},\n",
       "             scoring='f1')"
      ]
     },
     "execution_count": 38,
     "metadata": {},
     "output_type": "execute_result"
    }
   ],
   "source": [
    "xgb = XGBClassifier(n_iter_no_change=50, n_estimators=1000)\n",
    "\n",
    "params = {'learning_rate': np.arange(0.025, 0.125, 0.25),\n",
    "          'max_depth': [3],\n",
    "          'subsample': np.arange(0.4, 1.1,0.2),\n",
    "          'max_features': [None, 'sqrt']}\n",
    "\n",
    "xgb_grid = GridSearchCV(xgb, params, cv=3, scoring='f1', n_jobs=-1)\n",
    "\n",
    "xgb_grid.fit(X_train, y_train)"
   ]
  },
  {
   "cell_type": "code",
   "execution_count": 39,
   "metadata": {
    "colab": {
     "base_uri": "https://localhost:8080/"
    },
    "id": "8PLrN6Awi7m0",
    "outputId": "26bcf68c-bb96-4637-df41-3f263a090b6e"
   },
   "outputs": [
    {
     "data": {
      "text/plain": [
       "{'learning_rate': 0.025,\n",
       " 'max_depth': 3,\n",
       " 'max_features': None,\n",
       " 'subsample': 0.4}"
      ]
     },
     "execution_count": 39,
     "metadata": {},
     "output_type": "execute_result"
    }
   ],
   "source": [
    "xgb_grid.best_params_"
   ]
  },
  {
   "cell_type": "code",
   "execution_count": 40,
   "metadata": {
    "colab": {
     "base_uri": "https://localhost:8080/",
     "height": 885
    },
    "id": "QHmOWapMVG6z",
    "outputId": "4b6a8196-3648-4a61-cb76-ea8016d3b550"
   },
   "outputs": [
    {
     "name": "stdout",
     "output_type": "stream",
     "text": [
      "\n",
      "Training Scores:\n",
      "Score: 0.7540202501488981\n",
      "Accuracy: 0.8987745098039216\n",
      "Mean Squared Error: 0.10122549019607843\n",
      "Mean Absolute Error: 0.10122549019607843\n",
      "\n",
      "Test Scores:\n",
      "Score: 0.5944584382871536\n",
      "Accuracy: 0.8423114593535749\n",
      "Mean Squared Error: 0.15768854064642507\n",
      "Mean Absolute Error: 0.15768854064642507\n",
      "\n",
      "Training Report:\n",
      "               precision    recall  f1-score   support\n",
      "\n",
      "           0       0.89      0.99      0.94      3080\n",
      "           1       0.93      0.63      0.75      1000\n",
      "\n",
      "    accuracy                           0.90      4080\n",
      "   macro avg       0.91      0.81      0.85      4080\n",
      "weighted avg       0.90      0.90      0.89      4080\n",
      "\n",
      "\n",
      "Test Report:\n",
      "               precision    recall  f1-score   support\n",
      "\n",
      "           0       0.85      0.95      0.90       777\n",
      "           1       0.77      0.48      0.59       244\n",
      "\n",
      "    accuracy                           0.84      1021\n",
      "   macro avg       0.81      0.72      0.75      1021\n",
      "weighted avg       0.83      0.84      0.83      1021\n",
      "\n"
     ]
    },
    {
     "data": {
      "image/png": "[encoded data removed]",
      "text/plain": [
       "<Figure size 432x288 with 4 Axes>"
      ]
     },
     "metadata": {
      "needs_background": "light"
     },
     "output_type": "display_data"
    }
   ],
   "source": [
    "get_scores(xgb_grid, X_train, X_test, y_train, y_test, verbose=True)\n",
    "get_class_report(xgb_grid, X_train, X_test, y_train, y_test)\n",
    "ax1 = plt.subplot(121)\n",
    "plot_confusion_matrix(xgb_grid, X_train, y_train, values_format='.2f', ax=ax1, cmap='mako')\n",
    "plt.title('Training Data')\n",
    "\n",
    "ax2 = plt.subplot(122)\n",
    "plot_confusion_matrix(xgb_grid, X_test, y_test, values_format='.2f', ax=ax2, cmap='mako')\n",
    "plt.title('Test Data')\n",
    "\n",
    "plt.tight_layout()\n",
    "plt.show()"
   ]
  },
  {
   "cell_type": "code",
   "execution_count": 41,
   "metadata": {
    "colab": {
     "base_uri": "https://localhost:8080/",
     "height": 348
    },
    "id": "JzSri0j5njkW",
    "outputId": "ea405c34-8a46-45ec-a8f5-c79258801769"
   },
   "outputs": [
    {
     "data": {
      "text/html": [
       "<div>\n",
       "<style scoped>\n",
       "    .dataframe tbody tr th:only-of-type {\n",
       "        vertical-align: middle;\n",
       "    }\n",
       "\n",
       "    .dataframe tbody tr th {\n",
       "        vertical-align: top;\n",
       "    }\n",
       "\n",
       "    .dataframe thead th {\n",
       "        text-align: right;\n",
       "    }\n",
       "</style>\n",
       "<table border=\"1\" class=\"dataframe\">\n",
       "  <thead>\n",
       "    <tr style=\"text-align: right;\">\n",
       "      <th></th>\n",
       "      <th>columns</th>\n",
       "      <th>importance scores</th>\n",
       "    </tr>\n",
       "  </thead>\n",
       "  <tbody>\n",
       "    <tr>\n",
       "      <th>72</th>\n",
       "      <td>Q20</td>\n",
       "      <td>0.093391</td>\n",
       "    </tr>\n",
       "    <tr>\n",
       "      <th>0</th>\n",
       "      <td>Q2_1</td>\n",
       "      <td>0.038451</td>\n",
       "    </tr>\n",
       "    <tr>\n",
       "      <th>74</th>\n",
       "      <td>ppage</td>\n",
       "      <td>0.016700</td>\n",
       "    </tr>\n",
       "    <tr>\n",
       "      <th>82</th>\n",
       "      <td>educ_High school or less</td>\n",
       "      <td>0.014988</td>\n",
       "    </tr>\n",
       "    <tr>\n",
       "      <th>55</th>\n",
       "      <td>Q18_3</td>\n",
       "      <td>0.014757</td>\n",
       "    </tr>\n",
       "    <tr>\n",
       "      <th>90</th>\n",
       "      <td>income_cat_Less than $40k</td>\n",
       "      <td>0.013982</td>\n",
       "    </tr>\n",
       "    <tr>\n",
       "      <th>48</th>\n",
       "      <td>Q16</td>\n",
       "      <td>0.013709</td>\n",
       "    </tr>\n",
       "    <tr>\n",
       "      <th>79</th>\n",
       "      <td>Q30_No preference</td>\n",
       "      <td>0.012590</td>\n",
       "    </tr>\n",
       "    <tr>\n",
       "      <th>77</th>\n",
       "      <td>Q24_Other</td>\n",
       "      <td>0.012034</td>\n",
       "    </tr>\n",
       "    <tr>\n",
       "      <th>68</th>\n",
       "      <td>Q19_6</td>\n",
       "      <td>0.011567</td>\n",
       "    </tr>\n",
       "  </tbody>\n",
       "</table>\n",
       "</div>"
      ],
      "text/plain": [
       "                      columns  importance scores\n",
       "72                        Q20           0.093391\n",
       "0                        Q2_1           0.038451\n",
       "74                      ppage           0.016700\n",
       "82   educ_High school or less           0.014988\n",
       "55                      Q18_3           0.014757\n",
       "90  income_cat_Less than $40k           0.013982\n",
       "48                        Q16           0.013709\n",
       "79          Q30_No preference           0.012590\n",
       "77                  Q24_Other           0.012034\n",
       "68                      Q19_6           0.011567"
      ]
     },
     "execution_count": 41,
     "metadata": {},
     "output_type": "execute_result"
    }
   ],
   "source": [
    "xgb_feature_importances = pd.DataFrame({'columns': X_train.columns, 'importance scores':xgb_grid.best_estimator_.feature_importances_}).sort_values(\n",
    "    by='importance scores', ascending=False)\n",
    "\n",
    "xgb_feature_importances.head(10)"
   ]
  },
  {
   "cell_type": "markdown",
   "metadata": {
    "id": "tsMRFoQlp8Am"
   },
   "source": [
    "#Important Features\n",
    "\n",
    "Take the top 10 features from each model to make a `best_features` list and run the model again to see how it fairs."
   ]
  },
  {
   "cell_type": "code",
   "execution_count": 42,
   "metadata": {
    "id": "mlsaBMzwyL_r"
   },
   "outputs": [],
   "source": [
    "best_features = []\n",
    "\n",
    "for feature in feature_svc_coef.nlargest(10).index:\n",
    "  best_features.append(feature)\n",
    "\n",
    "for feature in forest_feature_importances['columns'].head(10):\n",
    "  if feature not in best_features:\n",
    "    best_features.append(feature)\n",
    "\n",
    "for feature in gbc_feature_importances['columns'].head(10):\n",
    "  if feature not in best_features:\n",
    "    best_features.append(feature)\n",
    "\n",
    "for feature in xgb_feature_importances['columns'].head(10):\n",
    "  if feature not in best_features:\n",
    "    best_features.append(feature)"
   ]
  },
  {
   "cell_type": "code",
   "execution_count": 43,
   "metadata": {
    "colab": {
     "base_uri": "https://localhost:8080/"
    },
    "id": "cqtxwgO90RmL",
    "outputId": "23438dd9-85f4-498e-ef26-542a983804d8"
   },
   "outputs": [
    {
     "data": {
      "text/plain": [
       "['Q20',\n",
       " 'Q2_1',\n",
       " 'Q30_Other',\n",
       " 'Q18_3',\n",
       " 'Q18_9',\n",
       " 'race_Other/Mixed',\n",
       " 'Q11_2',\n",
       " 'Q18_10',\n",
       " 'educ_High school or less',\n",
       " 'Q2_8',\n",
       " 'ppage',\n",
       " 'Q25',\n",
       " 'Q16',\n",
       " 'Q2_2',\n",
       " 'Q6',\n",
       " 'Q9_4',\n",
       " 'Q2_3',\n",
       " 'Q9_2',\n",
       " 'Q17_4',\n",
       " 'income_cat_Less than $40k',\n",
       " 'Q30_No preference',\n",
       " 'Q24_Other',\n",
       " 'Q19_6']"
      ]
     },
     "execution_count": 43,
     "metadata": {},
     "output_type": "execute_result"
    }
   ],
   "source": [
    "best_features"
   ]
  },
  {
   "cell_type": "code",
   "execution_count": 44,
   "metadata": {
    "id": "oINYPcDGxqll"
   },
   "outputs": [],
   "source": [
    "X_train_best = X_train[best_features]\n",
    "X_test_best = X_test[best_features]"
   ]
  },
  {
   "cell_type": "code",
   "execution_count": 45,
   "metadata": {
    "colab": {
     "base_uri": "https://localhost:8080/"
    },
    "id": "JqoXjcXRzhvx",
    "outputId": "cae76941-b1aa-4e2c-b623-e617038fe87c"
   },
   "outputs": [
    {
     "name": "stdout",
     "output_type": "stream",
     "text": [
      "[00:28:20] WARNING: /Users/travis/build/dmlc/xgboost/src/learner.cc:516: \n",
      "Parameters: { n_iter_no_change } might not be used.\n",
      "\n",
      "  This may not be accurate due to some parameters are only used in language bindings but\n",
      "  passed down to XGBoost core.  Or some parameters are not used but slip through this\n",
      "  verification. Please open an issue if you find above cases.\n",
      "\n",
      "\n"
     ]
    },
    {
     "data": {
      "text/plain": [
       "GridSearchCV(cv=3,\n",
       "             estimator=XGBClassifier(base_score=None, booster=None,\n",
       "                                     colsample_bylevel=None,\n",
       "                                     colsample_bynode=None,\n",
       "                                     colsample_bytree=None, gamma=None,\n",
       "                                     gpu_id=None, importance_type='gain',\n",
       "                                     interaction_constraints=None,\n",
       "                                     learning_rate=None, max_delta_step=None,\n",
       "                                     max_depth=None, min_child_weight=None,\n",
       "                                     missing=nan, monotone_constraints=None,\n",
       "                                     n_estimators=1000, n_iter_no_change=50,\n",
       "                                     n_jobs=None, num_parallel_tree=None,\n",
       "                                     random_state=None, reg_alpha=None,\n",
       "                                     reg_lambda=None, scale_pos_weight=None,\n",
       "                                     subsample=None, tree_method=None,\n",
       "                                     validate_parameters=None, verbosity=None),\n",
       "             n_jobs=-1,\n",
       "             param_grid={'learning_rate': array([0.025]), 'max_depth': [3],\n",
       "                         'max_features': [None, 'sqrt'],\n",
       "                         'subsample': array([0.4, 0.6, 0.8, 1. ])},\n",
       "             scoring='f1')"
      ]
     },
     "execution_count": 45,
     "metadata": {},
     "output_type": "execute_result"
    }
   ],
   "source": [
    "xgb = XGBClassifier(n_iter_no_change=50, n_estimators=1000)\n",
    "\n",
    "params = {'learning_rate': np.arange(0.025, 0.125, 0.25),\n",
    "          'max_depth': [3],\n",
    "          'subsample': np.arange(0.4, 1.1,0.2),\n",
    "          'max_features': [None, 'sqrt']}\n",
    "\n",
    "xgb_best_grid = GridSearchCV(xgb, params, cv=3, scoring='f1', n_jobs=-1)\n",
    "\n",
    "xgb_best_grid.fit(X_train_best, y_train)"
   ]
  },
  {
   "cell_type": "code",
   "execution_count": 46,
   "metadata": {
    "colab": {
     "base_uri": "https://localhost:8080/"
    },
    "id": "QacK8IfZ0EOh",
    "outputId": "1ded243b-39ba-4599-edd1-10fa27c06726"
   },
   "outputs": [
    {
     "data": {
      "text/plain": [
       "{'learning_rate': 0.025,\n",
       " 'max_depth': 3,\n",
       " 'max_features': None,\n",
       " 'subsample': 0.4}"
      ]
     },
     "execution_count": 46,
     "metadata": {},
     "output_type": "execute_result"
    }
   ],
   "source": [
    "xgb_best_grid.best_params_"
   ]
  },
  {
   "cell_type": "code",
   "execution_count": 47,
   "metadata": {
    "colab": {
     "base_uri": "https://localhost:8080/",
     "height": 885
    },
    "id": "Zns-RAiz0EOp",
    "outputId": "b967dd73-286c-4a7b-bed9-fa415f6295f2"
   },
   "outputs": [
    {
     "name": "stdout",
     "output_type": "stream",
     "text": [
      "\n",
      "Training Scores:\n",
      "Score: 0.6977589339794064\n",
      "Accuracy: 0.8776960784313725\n",
      "Mean Squared Error: 0.12230392156862745\n",
      "Mean Absolute Error: 0.12230392156862745\n",
      "\n",
      "Test Scores:\n",
      "Score: 0.6188118811881188\n",
      "Accuracy: 0.8491674828599413\n",
      "Mean Squared Error: 0.15083251714005877\n",
      "Mean Absolute Error: 0.15083251714005877\n",
      "\n",
      "Training Report:\n",
      "               precision    recall  f1-score   support\n",
      "\n",
      "           0       0.88      0.98      0.92      3080\n",
      "           1       0.88      0.58      0.70      1000\n",
      "\n",
      "    accuracy                           0.88      4080\n",
      "   macro avg       0.88      0.78      0.81      4080\n",
      "weighted avg       0.88      0.88      0.87      4080\n",
      "\n",
      "\n",
      "Test Report:\n",
      "               precision    recall  f1-score   support\n",
      "\n",
      "           0       0.86      0.95      0.91       777\n",
      "           1       0.78      0.51      0.62       244\n",
      "\n",
      "    accuracy                           0.85      1021\n",
      "   macro avg       0.82      0.73      0.76      1021\n",
      "weighted avg       0.84      0.85      0.84      1021\n",
      "\n"
     ]
    },
    {
     "data": {
      "image/png": "[encoded data removed]",
      "text/plain": [
       "<Figure size 432x288 with 4 Axes>"
      ]
     },
     "metadata": {
      "needs_background": "light"
     },
     "output_type": "display_data"
    }
   ],
   "source": [
    "get_scores(xgb_best_grid, X_train_best, X_test_best, y_train, y_test, verbose=True)\n",
    "get_class_report(xgb_best_grid, X_train_best, X_test_best, y_train, y_test)\n",
    "ax1 = plt.subplot(121)\n",
    "plot_confusion_matrix(xgb_best_grid, X_train_best, y_train, values_format='.2f', ax=ax1, cmap='mako')\n",
    "plt.title('Training Data')\n",
    "\n",
    "ax2 = plt.subplot(122)\n",
    "plot_confusion_matrix(xgb_best_grid, X_test_best, y_test, values_format='.2f', ax=ax2, cmap='mako')\n",
    "plt.title('Test Data')\n",
    "\n",
    "plt.tight_layout()\n",
    "plt.show()"
   ]
  },
  {
   "cell_type": "code",
   "execution_count": 48,
   "metadata": {
    "id": "wpg2dZftFbOZ"
   },
   "outputs": [],
   "source": [
    "smote = SMOTEENN(sampling_strategy=0.75)\n",
    "\n",
    "X_train_best_samp, y_train_samp = smote.fit_resample(X_train_best, y_train)"
   ]
  },
  {
   "cell_type": "code",
   "execution_count": 49,
   "metadata": {
    "colab": {
     "base_uri": "https://localhost:8080/"
    },
    "id": "1Lx39WNsFbbD",
    "outputId": "c92f4f56-081d-40d9-92b3-a51b6221ba85"
   },
   "outputs": [
    {
     "name": "stdout",
     "output_type": "stream",
     "text": [
      "[00:28:38] WARNING: /Users/travis/build/dmlc/xgboost/src/learner.cc:516: \n",
      "Parameters: { n_iter_no_change } might not be used.\n",
      "\n",
      "  This may not be accurate due to some parameters are only used in language bindings but\n",
      "  passed down to XGBoost core.  Or some parameters are not used but slip through this\n",
      "  verification. Please open an issue if you find above cases.\n",
      "\n",
      "\n"
     ]
    },
    {
     "data": {
      "text/plain": [
       "GridSearchCV(cv=3,\n",
       "             estimator=XGBClassifier(base_score=None, booster=None,\n",
       "                                     colsample_bylevel=None,\n",
       "                                     colsample_bynode=None,\n",
       "                                     colsample_bytree=None, gamma=None,\n",
       "                                     gpu_id=None, importance_type='gain',\n",
       "                                     interaction_constraints=None,\n",
       "                                     learning_rate=None, max_delta_step=None,\n",
       "                                     max_depth=None, min_child_weight=None,\n",
       "                                     missing=nan, monotone_constraints=None,\n",
       "                                     n_estimators=1000, n_iter_no_change=50,\n",
       "                                     n_jobs=None, num_parallel_tree=None,\n",
       "                                     random_state=None, reg_alpha=None,\n",
       "                                     reg_lambda=None, scale_pos_weight=None,\n",
       "                                     subsample=None, tree_method=None,\n",
       "                                     validate_parameters=None, verbosity=None),\n",
       "             n_jobs=-1,\n",
       "             param_grid={'learning_rate': array([0.025]), 'max_depth': [3],\n",
       "                         'max_features': [None, 'sqrt'],\n",
       "                         'subsample': array([0.4, 0.6, 0.8, 1. ])},\n",
       "             scoring='f1')"
      ]
     },
     "execution_count": 49,
     "metadata": {},
     "output_type": "execute_result"
    }
   ],
   "source": [
    "xgb = XGBClassifier(n_iter_no_change=50, n_estimators=1000)\n",
    "\n",
    "params = {'learning_rate': np.arange(0.025, 0.125, 0.25),\n",
    "          'max_depth': [3],\n",
    "          'subsample': np.arange(0.4, 1.1,0.2),\n",
    "          'max_features': [None, 'sqrt']}\n",
    "\n",
    "xgb_best_samp_grid = GridSearchCV(xgb, params, cv=3, scoring='f1', n_jobs=-1)\n",
    "\n",
    "xgb_best_samp_grid.fit(X_train_best_samp, y_train_samp)"
   ]
  },
  {
   "cell_type": "code",
   "execution_count": 50,
   "metadata": {
    "colab": {
     "base_uri": "https://localhost:8080/"
    },
    "id": "kFVByVjOFbbH",
    "outputId": "50689a29-1426-4974-fbab-33e82162ec5f"
   },
   "outputs": [
    {
     "data": {
      "text/plain": [
       "{'learning_rate': 0.025,\n",
       " 'max_depth': 3,\n",
       " 'max_features': None,\n",
       " 'subsample': 0.4}"
      ]
     },
     "execution_count": 50,
     "metadata": {},
     "output_type": "execute_result"
    }
   ],
   "source": [
    "xgb_best_samp_grid.best_params_"
   ]
  },
  {
   "cell_type": "code",
   "execution_count": 53,
   "metadata": {
    "colab": {
     "base_uri": "https://localhost:8080/",
     "height": 885
    },
    "id": "kJFJ94_YFbbL",
    "outputId": "426620c9-5fc1-4d74-8032-32aa500994c7"
   },
   "outputs": [
    {
     "name": "stdout",
     "output_type": "stream",
     "text": [
      "\n",
      "Training Scores:\n",
      "Score: 0.9650014956625785\n",
      "Accuracy: 0.9652818991097922\n",
      "Mean Squared Error: 0.034718100890207715\n",
      "Mean Absolute Error: 0.034718100890207715\n",
      "\n",
      "Test Scores:\n",
      "Score: 0.5988700564971751\n",
      "Accuracy: 0.791380999020568\n",
      "Mean Squared Error: 0.20861900097943192\n",
      "Mean Absolute Error: 0.20861900097943192\n",
      "\n",
      "Training Report:\n",
      "               precision    recall  f1-score   support\n",
      "\n",
      "           0       0.95      0.98      0.97      1671\n",
      "           1       0.98      0.95      0.97      1699\n",
      "\n",
      "    accuracy                           0.97      3370\n",
      "   macro avg       0.97      0.97      0.97      3370\n",
      "weighted avg       0.97      0.97      0.97      3370\n",
      "\n",
      "\n",
      "Test Report:\n",
      "               precision    recall  f1-score   support\n",
      "\n",
      "           0       0.88      0.84      0.86       777\n",
      "           1       0.55      0.65      0.60       244\n",
      "\n",
      "    accuracy                           0.79      1021\n",
      "   macro avg       0.72      0.74      0.73      1021\n",
      "weighted avg       0.81      0.79      0.80      1021\n",
      "\n"
     ]
    },
    {
     "data": {
      "image/png": "[encoded data removed]",
      "text/plain": [
       "<Figure size 432x288 with 4 Axes>"
      ]
     },
     "metadata": {
      "needs_background": "light"
     },
     "output_type": "display_data"
    }
   ],
   "source": [
    "get_scores(xgb_best_samp_grid, X_train_best_samp, X_test_best, y_train_samp, y_test, verbose=True)\n",
    "get_class_report(xgb_best_samp_grid, X_train_best_samp, X_test_best, y_train_samp, y_test)\n",
    "ax1 = plt.subplot(121)\n",
    "plot_confusion_matrix(xgb_best_samp_grid, X_train_best_samp, y_train_samp, values_format='.2f', ax=ax1, cmap='mako')\n",
    "plt.title('Training Data')\n",
    "\n",
    "ax2 = plt.subplot(122)\n",
    "plot_confusion_matrix(xgb_best_samp_grid, X_test_best, y_test, values_format='.2f', ax=ax2, cmap='mako')\n",
    "plt.title('Test Data')\n",
    "\n",
    "plt.tight_layout()\n",
    "plt.show()"
   ]
  },
  {
   "cell_type": "markdown",
   "metadata": {
    "id": "7jZxjEU1nRUd"
   },
   "source": [
    "# Conclusion"
   ]
  },
  {
   "cell_type": "markdown",
   "metadata": {
    "id": "8o6SUKA20eiB"
   },
   "source": [
    "No one model truly out performed the others in this testing. Each did fairly well to predict the test set with test accuracies of 0.84 for all but the SVC model (which got 0.8). However, accuracy isn't everything and the recall for most of the model suffer due to the class imbalance of the data set. When trying to account for this with resampling, the precision decreases drastically for the models. So, depending on which is most important, recall or precision, either method could be used."
   ]
  },
  {
   "cell_type": "markdown",
   "metadata": {
    "id": "XF5z4jnvBj9t"
   },
   "source": [
    "Besides the demographic values that clearly matter when it comes to determining whether someone will vote or not, with age being clearly the most important of these features, there were a few features that appeared in each of the model's feature_importances lists. \n",
    "\n",
    "The most important of these, unsurprisingly, is `Q20`, which is whether someone has registered to vote or not. Clearly it goes without saying that being registered is a very important metric for voter turnout. Clearly having more incentives to ensure people are registered to vote is in order. \n",
    "\n",
    "`Q18_3` is similar to this as it shows those who missed voting registration deadlines.\n",
    "\n",
    "`Q2_1` asked the respondants how important the elections are. `Q25` askes how much they paid attention to the election. So, having an interest and understanding how important the elections are is an indicator of someone interest in voting.\n",
    "\n",
    "`Q16` is an interesting question, as it asks how easy or difficult it is to vote. So, efforts in making voting easier could greatly influence voter turnout, or at least changing people impressions of its difficulty could. \n",
    "\n"
   ]
  }
 ],
 "metadata": {
  "accelerator": "TPU",
  "colab": {
   "name": "Analysis of Voters vs Non-Voters Data.ipynb",
   "provenance": []
  },
  "kernelspec": {
   "display_name": "Python 3",
   "language": "python",
   "name": "python3"
  },
  "language_info": {
   "codemirror_mode": {
    "name": "ipython",
    "version": 3
   },
   "file_extension": ".py",
   "mimetype": "text/x-python",
   "name": "python",
   "nbconvert_exporter": "python",
   "pygments_lexer": "ipython3",
   "version": "3.8.3"
  }
 },
 "nbformat": 4,
 "nbformat_minor": 1
}
