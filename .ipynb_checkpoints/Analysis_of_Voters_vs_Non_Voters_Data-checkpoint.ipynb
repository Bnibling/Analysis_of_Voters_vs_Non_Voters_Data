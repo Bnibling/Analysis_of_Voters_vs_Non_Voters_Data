{
 "cells": [
  {
   "cell_type": "markdown",
   "metadata": {
    "id": "9xOlo8LlyAy_"
   },
   "source": [
    "# <div align=\"center\">Analysis and modeling of whether Americans vote or not</div> #\n",
    "\n",
    "\n",
    "**<div align=\"center\">Barrett Nibling</div>**\n",
    "**<div align=\"center\">bnibling@gmail.com</div>**"
   ]
  },
  {
   "cell_type": "markdown",
   "metadata": {
    "id": "KCL_QtO_yAot"
   },
   "source": [
    "# Background"
   ]
  },
  {
   "cell_type": "markdown",
   "metadata": {
    "id": "Boqrzfx312O3"
   },
   "source": [
    "Every 2 years, a majority of American adults find themselves in the same situation come November 3rd with a decision whether or not to exercise one of their fundamental rights as a citizen in this country, voting in either the presidential and midterm elections. And for each election, millions of Americans choose the latter and decide to not cast a ballot. In fact, according to [MIT's Election Data + Science Lab](https://electionlab.mit.edu/research/voter-turnout), anywhere between 35 and 60 percent of the eligible voters in this country decide to abstain from voting come election day, with this figure varying based on numerous demographic features. \n",
    "\n",
    "So, the questions are: \n",
    "1. What makes people decided to vote or not for any given election? \n",
    "\n",
    "2. Can we predict who will vote and who will not vote from demographic and survey data? "
   ]
  },
  {
   "cell_type": "markdown",
   "metadata": {
    "id": "1b3eu56nyAd6"
   },
   "source": [
    "# Data"
   ]
  },
  {
   "cell_type": "markdown",
   "metadata": {
    "id": "oi6CsNqO49c9"
   },
   "source": [
    "This notebook uses the polling data used for the Fivethirtyeight.com article, [Why Many Americans Don't Vote](https://projects.fivethirtyeight.com/non-voters-poll-2020-election/), that was provided by Ipsos. \n",
    "\n",
    "In the polling, approximately 8000 respondents were surveyed and then matched to voter file records by Aristole to determine their voting history, which reduced the number of responses to 5836.\n",
    "\n",
    "The data includes basic demographic data:\n",
    "  1. Age\n",
    "  2. Gender\n",
    "  3. Education\n",
    "  4. Race\n",
    "  5. Income\n",
    "\n",
    "And includes responses to 33 topics about voting, government, and other political beliefs. \n",
    "\n",
    "The dataset and meta data (survey) can be found at:\n",
    " https://github.com/fivethirtyeight/data/tree/master/non-voters"
   ]
  },
  {
   "cell_type": "markdown",
   "metadata": {
    "id": "eOShxeqbxpCS"
   },
   "source": [
    "# Import libraries"
   ]
  },
  {
   "cell_type": "code",
   "execution_count": 1,
   "metadata": {
    "id": "oJ0zBDiwmUGZ"
   },
   "outputs": [],
   "source": [
    "# !pip install xgboost\n",
    "# !pip install scikit-optimize"
   ]
  },
  {
   "cell_type": "code",
   "execution_count": 2,
   "metadata": {
    "id": "rKL694pH_6DM"
   },
   "outputs": [
    {
     "ename": "ModuleNotFoundError",
     "evalue": "No module named 'skopt'",
     "output_type": "error",
     "traceback": [
      "\u001b[0;31m---------------------------------------------------------------------------\u001b[0m",
      "\u001b[0;31mModuleNotFoundError\u001b[0m                       Traceback (most recent call last)",
      "\u001b[0;32m<ipython-input-2-156624c03f4b>\u001b[0m in \u001b[0;36m<module>\u001b[0;34m\u001b[0m\n\u001b[1;32m     16\u001b[0m )\n\u001b[1;32m     17\u001b[0m \u001b[0;34m\u001b[0m\u001b[0m\n\u001b[0;32m---> 18\u001b[0;31m \u001b[0;32mfrom\u001b[0m \u001b[0mskopt\u001b[0m \u001b[0;32mimport\u001b[0m \u001b[0mBayesSearchCV\u001b[0m\u001b[0;34m\u001b[0m\u001b[0;34m\u001b[0m\u001b[0m\n\u001b[0m\u001b[1;32m     19\u001b[0m \u001b[0;32mfrom\u001b[0m \u001b[0mskopt\u001b[0m\u001b[0;34m.\u001b[0m\u001b[0mspace\u001b[0m \u001b[0;32mimport\u001b[0m \u001b[0mReal\u001b[0m\u001b[0;34m,\u001b[0m \u001b[0mCategorical\u001b[0m\u001b[0;34m,\u001b[0m \u001b[0mInteger\u001b[0m\u001b[0;34m\u001b[0m\u001b[0;34m\u001b[0m\u001b[0m\n\u001b[1;32m     20\u001b[0m \u001b[0;32mfrom\u001b[0m \u001b[0mscipy\u001b[0m \u001b[0;32mimport\u001b[0m \u001b[0mstats\u001b[0m\u001b[0;34m\u001b[0m\u001b[0;34m\u001b[0m\u001b[0m\n",
      "\u001b[0;31mModuleNotFoundError\u001b[0m: No module named 'skopt'"
     ]
    }
   ],
   "source": [
    "%matplotlib inline\n",
    "\n",
    "import math\n",
    "\n",
    "import matplotlib.pyplot as plt\n",
    "import numpy as np\n",
    "import pandas as pd\n",
    "import seaborn as sns\n",
    "\n",
    "from sklearn.svm import SVC\n",
    "from sklearn.ensemble import GradientBoostingClassifier\n",
    "\n",
    "from sklearn.model_selection import (\n",
    "    train_test_split,\n",
    "    GridSearchCV\n",
    ")\n",
    "\n",
    "from skopt import BayesSearchCV\n",
    "from skopt.space import Real, Categorical, Integer\n",
    "from scipy import stats\n",
    "\n",
    "from imblearn.combine import SMOTEENN\n",
    "\n",
    "from sklearn.preprocessing import MinMaxScaler, StandardScaler, OneHotEncoder\n",
    "from sklearn.ensemble import RandomForestClassifier\n",
    "from sklearn.metrics import (\n",
    "    mean_squared_error,\n",
    "    r2_score,\n",
    "    accuracy_score,\n",
    "    mean_absolute_error,\n",
    "    plot_confusion_matrix,\n",
    "    classification_report,\n",
    ")\n",
    "\n",
    "from xgboost import XGBClassifier\n",
    "\n",
    "import warnings\n",
    "warnings.simplefilter(action='ignore', category=FutureWarning)"
   ]
  },
  {
   "cell_type": "markdown",
   "metadata": {
    "id": "FCyWQE3ZwkT7"
   },
   "source": [
    "# Data Cleaning and Feature Engineering"
   ]
  },
  {
   "cell_type": "markdown",
   "metadata": {
    "id": "tozcePJpzCoA"
   },
   "source": [
    "Read in csv file as a pandas DataFrame"
   ]
  },
  {
   "cell_type": "code",
   "execution_count": null,
   "metadata": {
    "id": "2U8iQvKr_6Ah"
   },
   "outputs": [],
   "source": [
    "url = '/content/drive/My Drive/Thinkful/Capstone 2/nonvoters_data.csv'\n",
    "data = pd.read_csv(url)"
   ]
  },
  {
   "cell_type": "code",
   "execution_count": null,
   "metadata": {
    "colab": {
     "base_uri": "https://localhost:8080/"
    },
    "id": "x6R4E_k0oAgr",
    "outputId": "80dfc668-cc31-40d9-fcad-f8a54847b805"
   },
   "outputs": [],
   "source": [
    "data.info()"
   ]
  },
  {
   "cell_type": "markdown",
   "metadata": {
    "id": "RotmMVbEzJLC"
   },
   "source": [
    "Drop irrelevant features, namely ones with useless data, incomplete values, or feature dependent on other questions in the survey."
   ]
  },
  {
   "cell_type": "code",
   "execution_count": null,
   "metadata": {
    "id": "XfMIpXhWOoca"
   },
   "outputs": [],
   "source": [
    "#Columns to Drop\n",
    "#ID, weight, US citizen, Have you already voted, Political party (based on Q30)\n",
    "drop_list = ['RespId','weight','Q1','Q21','Q22','Q31','Q32','Q33']\n",
    "\n",
    "#Thoughts on the two parties\n",
    "question_14 = ['Q14']\n",
    "question_15 = ['Q15']\n",
    "\n",
    "#Questions about whether participants voted in past elections\n",
    "question_26 = ['Q26']\n",
    "question_27 = ['Q27_1','Q27_2','Q27_3','Q27_4','Q27_5','Q27_6']\n",
    "question_28 = ['Q28_1','Q28_2','Q28_3','Q28_4','Q28_5','Q28_6','Q28_7','Q28_8']\n",
    "question_29 = ['Q29_1','Q29_2','Q29_3','Q29_4','Q29_5','Q29_6','Q29_7','Q29_8','Q29_9','Q29_10']\n",
    "\n",
    "#`Other` option for 'What do you think would get more people to vote?' \n",
    "question_19_10 = ['Q19_10']\n",
    "\n",
    "#Trump vs Biden\n",
    "question_23 = ['Q23']"
   ]
  },
  {
   "cell_type": "code",
   "execution_count": null,
   "metadata": {
    "id": "UGN5QT94QFL-"
   },
   "outputs": [],
   "source": [
    "data.drop(drop_list, 1, inplace=True)\n",
    "data.drop(question_14+question_15, 1, inplace=True)\n",
    "data.drop(question_26+question_27+question_28+question_29, 1, inplace=True)\n",
    "data.drop(question_19_10, 1, inplace=True)\n",
    "data.drop(question_23, 1, inplace=True)"
   ]
  },
  {
   "cell_type": "markdown",
   "metadata": {
    "id": "orb84XNkz01x"
   },
   "source": [
    "Organize features by type: Ordinal, Binary, Multi-class"
   ]
  },
  {
   "cell_type": "code",
   "execution_count": null,
   "metadata": {
    "id": "gZRGb8V0X4F-"
   },
   "outputs": [],
   "source": [
    "#How important? (Ordinal)\n",
    "question_2 = ['Q2_1', 'Q2_2', 'Q2_3', 'Q2_4', 'Q2_5', 'Q2_6', 'Q2_7', 'Q2_8', 'Q2_9', 'Q2_10']\n",
    "#Agree or Disagree (Ordinal)\n",
    "question_3 = ['Q3_1', 'Q3_2', 'Q3_3', 'Q3_4', 'Q3_5', 'Q3_6']\n",
    "#Impact (Ordinal)\n",
    "question_4 = ['Q4_1', 'Q4_2', 'Q4_3', 'Q4_4', 'Q4_5', 'Q4_6']\n",
    "#Politician like you? (Ordinal)\n",
    "question_6 = ['Q6']\n",
    "#Trust (Ordinal)\n",
    "question_8 = ['Q8_1', 'Q8_2', 'Q8_3', 'Q8_4', 'Q8_5', 'Q8_6', 'Q8_7', 'Q8_8', 'Q8_9']\n",
    "#Way of governing (Ordinal)\n",
    "question_9 = ['Q9_1', 'Q9_2', 'Q9_3', 'Q9_4']\n",
    "#Ease of voting (Ordinal)\n",
    "question_16 = ['Q16']\n",
    "#Voting confidence (Ordinal)\n",
    "question_17 = ['Q17_1', 'Q17_2', 'Q17_3', 'Q17_4']\n",
    "#Following the 2020 election (Ordinal)\n",
    "question_25 = ['Q25']"
   ]
  },
  {
   "cell_type": "code",
   "execution_count": null,
   "metadata": {
    "id": "YAv2aopuHuzw"
   },
   "outputs": [],
   "source": [
    "#Does presidential election matter? (Binary)\n",
    "question_5 = ['Q5']\n",
    "#U.S. government needs changes? (Binary)\n",
    "question_7 = ['Q7']\n",
    "#Various conditions (Binary )\n",
    "question_10 = ['Q10_1', 'Q10_2', 'Q10_3', 'Q10_4']\n",
    "question_11 = ['Q11_1', 'Q11_2', 'Q11_3', 'Q11_4', 'Q11_5', 'Q11_6']\n",
    "question_18 = ['Q18_1', 'Q18_2', 'Q18_3', 'Q18_4', 'Q18_5', 'Q18_6', 'Q18_7', 'Q18_8', 'Q18_9', 'Q18_10']\n",
    "#Registered to vote (Binary)\n",
    "question_20 = ['Q20']"
   ]
  },
  {
   "cell_type": "code",
   "execution_count": null,
   "metadata": {
    "id": "DrTzY3n4G5zQ"
   },
   "outputs": [],
   "source": [
    "#What do you think would get more people to vote? (Binary- Yes or Blank)\n",
    "question_19 = ['Q19_1','Q19_2','Q19_3','Q19_4','Q19_5','Q19_6','Q19_7','Q19_8','Q19_9']\n",
    "#Preferred voting method (Categorical)\n",
    "question_24 = ['Q24']\n",
    "#Political party affiliation (Categorical)\n",
    "question_30 = ['Q30']"
   ]
  },
  {
   "cell_type": "markdown",
   "metadata": {
    "id": "wcp0Do1TKcRl"
   },
   "source": [
    "Map the values for better analysis. \n",
    "\n",
    "Ordinal value ordering will be flipped 1-4:4-1 to better represent the data.\n",
    "\n",
    "Binary values will be made either 0 or 1\n",
    "\n",
    "Multi-class values will be properly encoded for future One-hot encoding.\n",
    "\n",
    "All -1 values will be replaced with NaN values to be dropped."
   ]
  },
  {
   "cell_type": "code",
   "execution_count": null,
   "metadata": {
    "id": "dnXWUMKQYY2q"
   },
   "outputs": [],
   "source": [
    "df_encoded = data.copy()"
   ]
  },
  {
   "cell_type": "code",
   "execution_count": null,
   "metadata": {
    "id": "EGx47LG1aWd2"
   },
   "outputs": [],
   "source": [
    "ordinal_mapping = {1:4, 2:3, 3:2, 4:1, -1:np.nan}\n",
    "bi_mapping = {1:1, 2:0, -1:np.nan}"
   ]
  },
  {
   "cell_type": "code",
   "execution_count": null,
   "metadata": {
    "id": "eu-99tSeakBK"
   },
   "outputs": [],
   "source": [
    "df_encoded[question_2] = df_encoded[question_2].replace(ordinal_mapping)\n",
    "df_encoded[question_3] = df_encoded[question_3].replace(ordinal_mapping)\n",
    "df_encoded[question_4] = df_encoded[question_4].replace(ordinal_mapping)\n",
    "df_encoded[question_6] = df_encoded[question_6].replace(ordinal_mapping)\n",
    "df_encoded[question_8] = df_encoded[question_8].replace(ordinal_mapping)\n",
    "df_encoded[question_9] = df_encoded[question_9].replace(ordinal_mapping)\n",
    "df_encoded[question_16] = df_encoded[question_16].replace(ordinal_mapping)\n",
    "df_encoded[question_17] = df_encoded[question_17].replace(ordinal_mapping)\n",
    "df_encoded[question_25] = df_encoded[question_25].replace(ordinal_mapping)\n",
    "\n",
    "df_encoded[question_5] = df_encoded[question_5].replace(bi_mapping)\n",
    "df_encoded[question_7] = df_encoded[question_7].replace(bi_mapping)\n",
    "df_encoded[question_10] = df_encoded[question_10].replace(bi_mapping)\n",
    "df_encoded[question_11] = df_encoded[question_11].replace(bi_mapping)\n",
    "df_encoded[question_18] = df_encoded[question_18].replace(bi_mapping)\n",
    "df_encoded[question_20] = df_encoded[question_20].replace(bi_mapping)\n",
    "\n",
    "df_encoded[question_19] = df_encoded[question_19].replace({1:1, -1:0})"
   ]
  },
  {
   "cell_type": "code",
   "execution_count": null,
   "metadata": {
    "id": "Ew-wJfydJA19"
   },
   "outputs": [],
   "source": [
    "q24_mapping = {1:'Mail-in', 2:'Early In-person', 3:'In-person', 4:'Other', -1:np.nan}\n",
    "df_encoded[question_24] = df_encoded[question_24].replace(q24_mapping)\n",
    "\n",
    "q30_mapping = {1:'Republican', 2:'Democrat', 3:'Independent', 4:'Other', 5:'No preference', -1:np.nan}\n",
    "df_encoded[question_30] = df_encoded[question_30].replace(q30_mapping)"
   ]
  },
  {
   "cell_type": "code",
   "execution_count": null,
   "metadata": {
    "id": "6IAKV84-R25g"
   },
   "outputs": [],
   "source": [
    "df_encoded.dropna(0, inplace=True)"
   ]
  },
  {
   "cell_type": "markdown",
   "metadata": {
    "id": "kkX9--PNLnRN"
   },
   "source": [
    "Split features and the target variable.\n",
    "\n",
    "Finish encoding of categorical values."
   ]
  },
  {
   "cell_type": "code",
   "execution_count": null,
   "metadata": {
    "id": "qOTr6RPWePn6"
   },
   "outputs": [],
   "source": [
    "X = df_encoded.drop('voter_category', 1)\n",
    "y = df_encoded['voter_category']"
   ]
  },
  {
   "cell_type": "code",
   "execution_count": null,
   "metadata": {
    "id": "MDX6G-Fti4qG"
   },
   "outputs": [],
   "source": [
    "X_cat = pd.get_dummies(X.select_dtypes(include='O'), drop_first=True)"
   ]
  },
  {
   "cell_type": "code",
   "execution_count": null,
   "metadata": {
    "id": "ukhburRCj0q4"
   },
   "outputs": [],
   "source": [
    "X = pd.concat([X.select_dtypes(exclude='O'), X_cat], 1)"
   ]
  },
  {
   "cell_type": "code",
   "execution_count": null,
   "metadata": {
    "colab": {
     "base_uri": "https://localhost:8080/"
    },
    "id": "TEp2inPOkPRZ",
    "outputId": "b64557f7-f338-4a83-d636-17aa42f1570c"
   },
   "outputs": [],
   "source": [
    "y.value_counts()"
   ]
  },
  {
   "cell_type": "code",
   "execution_count": null,
   "metadata": {
    "colab": {
     "base_uri": "https://localhost:8080/"
    },
    "id": "d0Yp31d9l4al",
    "outputId": "23d8063d-b933-4268-ff47-7974d1f74baf"
   },
   "outputs": [],
   "source": [
    "voter_map = {'always':0, 'sporadic':0, 'rarely/never':1}\n",
    "y = y.replace(voter_map)\n",
    "y.value_counts()"
   ]
  },
  {
   "cell_type": "markdown",
   "metadata": {
    "id": "sWcEuHF8MrK5"
   },
   "source": [
    "Check for Collinearity in the feature variables and drop any above 0.8"
   ]
  },
  {
   "cell_type": "code",
   "execution_count": null,
   "metadata": {
    "colab": {
     "base_uri": "https://localhost:8080/",
     "height": 348
    },
    "id": "FntPdrEBqbMG",
    "outputId": "7406e294-0e03-47a0-9693-cc9335c1b699"
   },
   "outputs": [],
   "source": [
    "corr_table = pd.melt(X.corr())\n",
    "corr_table = corr_table[corr_table['value'] != 1.0]\n",
    "corr_table['value'] = np.abs(corr_table['value'])\n",
    "corr_table.sort_values('value', ascending=False).head(10)"
   ]
  },
  {
   "cell_type": "markdown",
   "metadata": {
    "id": "MLcwtFRgM4ia"
   },
   "source": [
    "See if there are any features with strong correlation with the target."
   ]
  },
  {
   "cell_type": "code",
   "execution_count": null,
   "metadata": {
    "colab": {
     "base_uri": "https://localhost:8080/"
    },
    "id": "IJ7cZ77mr27n",
    "outputId": "aca7107a-ce48-4afc-b147-1e8d74b3cac4"
   },
   "outputs": [],
   "source": [
    "corr_target = np.abs(X.corrwith(y)).sort_values(ascending=False)\n",
    "corr_target[:10]"
   ]
  },
  {
   "cell_type": "markdown",
   "metadata": {
    "id": "MlmZsXnPNDJT"
   },
   "source": [
    "# Train Test Split"
   ]
  },
  {
   "cell_type": "code",
   "execution_count": null,
   "metadata": {
    "id": "don8kIY0mJWM"
   },
   "outputs": [],
   "source": [
    "X_train, X_test, y_train, y_test = train_test_split(X, y, test_size=0.2)"
   ]
  },
  {
   "cell_type": "code",
   "execution_count": null,
   "metadata": {
    "id": "8AXT4xPgA22K"
   },
   "outputs": [],
   "source": [
    "smote = SMOTEENN(sampling_strategy=0.75)\n",
    "\n",
    "X_train_samp, y_train_samp = smote.fit_resample(X_train, y_train)"
   ]
  },
  {
   "cell_type": "code",
   "execution_count": null,
   "metadata": {
    "id": "H_csXvAqp6dj"
   },
   "outputs": [],
   "source": [
    "scaler = StandardScaler()\n",
    "\n",
    "X_train_scaled = scaler.fit_transform(X_train)\n",
    "X_test_scaled = scaler.transform(X_test)"
   ]
  },
  {
   "cell_type": "code",
   "execution_count": null,
   "metadata": {
    "id": "eCOsGl75T3cc"
   },
   "outputs": [],
   "source": [
    "def get_scores(model, X_train, X_test, y_train, y_test, verbose=False):\n",
    "  if verbose:\n",
    "    print('\\nTraining Scores:')\n",
    "    print(f'Score: {model.score(X_train, y_train)}')\n",
    "    print(f'Accuracy: {accuracy_score(y_train, model.predict(X_train))}')\n",
    "    print(f'Mean Squared Error: {mean_squared_error(y_train, model.predict(X_train))}')\n",
    "    print(f'Mean Absolute Error: {mean_absolute_error(y_train, model.predict(X_train))}')\n",
    "    print(f'\\nTest Scores:')\n",
    "    print(f'Score: {model.score(X_test, y_test)}')\n",
    "    print(f'Accuracy: {accuracy_score(y_test, model.predict(X_test))}')\n",
    "    print(f'Mean Squared Error: {mean_squared_error(y_test, model.predict(X_test))}')\n",
    "    print(f'Mean Absolute Error: {mean_absolute_error(y_test, model.predict(X_test))}')\n",
    "\n",
    "def get_class_report(model, X_train, X_test, y_train, y_test):\n",
    "  print(f'\\nTraining Report:\\n {classification_report(y_train, model.predict(X_train))}')\n",
    "  print(f'\\nTest Report:\\n {classification_report(y_test, model.predict(X_test))}')"
   ]
  },
  {
   "cell_type": "markdown",
   "metadata": {
    "id": "OvWbkqqWNKzv"
   },
   "source": [
    "# Linear Support Vector Classification \n",
    "\n",
    "Namely to check best coefficients"
   ]
  },
  {
   "cell_type": "code",
   "execution_count": null,
   "metadata": {
    "colab": {
     "base_uri": "https://localhost:8080/"
    },
    "id": "SD_YaJvThf8h",
    "outputId": "4d5faa62-dc2a-456c-b982-13043dad6d7a"
   },
   "outputs": [],
   "source": [
    "svc = SVC()\n",
    "\n",
    "params = {'C': np.logspace(-1,1,3),\n",
    "          'kernel': ['linear'],\n",
    "          'gamma': ['scale', 'auto'],\n",
    "          'class_weight': ['balanced', None]}\n",
    "\n",
    "svc_lin_grid = GridSearchCV(svc, params, cv=3, scoring='f1', n_jobs=-1)\n",
    "\n",
    "svc_lin_grid.fit(X_train, y_train)"
   ]
  },
  {
   "cell_type": "code",
   "execution_count": null,
   "metadata": {
    "colab": {
     "base_uri": "https://localhost:8080/"
    },
    "id": "3wFrAJPsh4Lp",
    "outputId": "acd3a278-0b21-4ecf-fa2c-c93950126678"
   },
   "outputs": [],
   "source": [
    "svc_lin_grid.best_params_"
   ]
  },
  {
   "cell_type": "code",
   "execution_count": null,
   "metadata": {
    "colab": {
     "base_uri": "https://localhost:8080/",
     "height": 885
    },
    "id": "aWjZn1j6hopS",
    "outputId": "352e7b29-7b85-4e09-d2f1-cc4380ca6f86"
   },
   "outputs": [],
   "source": [
    "get_scores(svc_lin_grid, X_train, X_test, y_train, y_test, verbose=True)\n",
    "get_class_report(svc_lin_grid, X_train, X_test, y_train, y_test)\n",
    "ax1 = plt.subplot(121)\n",
    "plot_confusion_matrix(svc_lin_grid, X_train, y_train, values_format='.2f', ax=ax1, cmap='mako')\n",
    "plt.title('Training Data')\n",
    "\n",
    "ax2 = plt.subplot(122)\n",
    "plot_confusion_matrix(svc_lin_grid, X_test, y_test, values_format='.2f', ax=ax2, cmap='mako')\n",
    "plt.title('Test Data')\n",
    "\n",
    "plt.tight_layout()\n",
    "plt.show()"
   ]
  },
  {
   "cell_type": "code",
   "execution_count": null,
   "metadata": {
    "colab": {
     "base_uri": "https://localhost:8080/",
     "height": 265
    },
    "id": "oFj2BLe6hfyM",
    "outputId": "0f76002a-d9f1-424d-f207-4cb237a2e16d"
   },
   "outputs": [],
   "source": [
    "feature_svc_coef = pd.Series(abs(svc_lin_grid.best_estimator_.coef_[0]), index=X_train.columns)\n",
    "feature_svc_coef.sort_values(ascending=False).nlargest(15).plot(kind='barh')\n",
    "plt.show()"
   ]
  },
  {
   "cell_type": "markdown",
   "metadata": {
    "id": "FN1UDaElrGot"
   },
   "source": [
    "# Random Forest Classifier\n",
    "\n",
    "To look how well the model fits and the `feature_importances`"
   ]
  },
  {
   "cell_type": "code",
   "execution_count": null,
   "metadata": {
    "colab": {
     "base_uri": "https://localhost:8080/"
    },
    "id": "uDtvYmc5rHBH",
    "outputId": "ca85ec13-907a-48c0-9c3d-0d7535781085"
   },
   "outputs": [],
   "source": [
    "params = {'max_depth': [5, 10, 15, 20], 'min_samples_split': [10, 25, 50], 'max_features': ['sqrt', 0.5, None]}\n",
    "\n",
    "forest = RandomForestClassifier(criterion='entropy')\n",
    "\n",
    "forest_grid = GridSearchCV(forest, param_grid = params, cv=5)\n",
    "\n",
    "forest_grid.fit(X_train, y_train)"
   ]
  },
  {
   "cell_type": "code",
   "execution_count": null,
   "metadata": {
    "colab": {
     "base_uri": "https://localhost:8080/"
    },
    "id": "vj_0-K00rZ7M",
    "outputId": "46db35be-748f-40de-8042-2b4ef6306f0a"
   },
   "outputs": [],
   "source": [
    "forest_grid.best_params_"
   ]
  },
  {
   "cell_type": "code",
   "execution_count": null,
   "metadata": {
    "colab": {
     "base_uri": "https://localhost:8080/",
     "height": 885
    },
    "id": "qJHK53n-rbwH",
    "outputId": "02946e73-8de5-4c7a-998c-d3f43edc6274"
   },
   "outputs": [],
   "source": [
    "get_scores(forest_grid, X_train, X_test, y_train, y_test, verbose=True)\n",
    "get_class_report(forest_grid, X_train, X_test, y_train, y_test)\n",
    "ax1 = plt.subplot(121)\n",
    "plot_confusion_matrix(forest_grid, X_train, y_train, values_format='.2f', ax=ax1, cmap='mako')\n",
    "plt.title('Training Data')\n",
    "\n",
    "ax2 = plt.subplot(122)\n",
    "plot_confusion_matrix(forest_grid, X_test, y_test, values_format='.2f', ax=ax2, cmap='mako')\n",
    "plt.title('Test Data')\n",
    "\n",
    "plt.tight_layout()\n",
    "plt.show()"
   ]
  },
  {
   "cell_type": "code",
   "execution_count": null,
   "metadata": {
    "colab": {
     "base_uri": "https://localhost:8080/",
     "height": 348
    },
    "id": "GB9d5VUsrgZD",
    "outputId": "bf03ac02-1a04-46af-890c-cc7393379ee1"
   },
   "outputs": [],
   "source": [
    "forest_feature_importances = pd.DataFrame({'columns': X_train.columns, 'importance scores':forest_grid.best_estimator_.feature_importances_}).sort_values(\n",
    "    by='importance scores', ascending=False)\n",
    "\n",
    "forest_feature_importances.head(10)"
   ]
  },
  {
   "cell_type": "markdown",
   "metadata": {
    "id": "_pWwF2BFhwHf"
   },
   "source": [
    "# Gradient Boosting Classifier\n",
    "\n",
    "To look how well the model fits and the `feature_importances`"
   ]
  },
  {
   "cell_type": "code",
   "execution_count": null,
   "metadata": {
    "colab": {
     "base_uri": "https://localhost:8080/"
    },
    "id": "rAbji0fATu3F",
    "outputId": "0f202194-9958-49f8-8e2f-7032394f20bd"
   },
   "outputs": [],
   "source": [
    "gbc = GradientBoostingClassifier(n_iter_no_change=100, n_estimators=10000)\n",
    "\n",
    "params = {'learning_rate': np.arange(0.025, 0.125, 0.25),\n",
    "          'max_depth': [3],\n",
    "          'subsample': np.arange(0.4, 1.1,0.2),\n",
    "          'max_features': [None, 'sqrt']}\n",
    "\n",
    "gbc_grid = GridSearchCV(gbc, params, cv=3, scoring='f1', n_jobs=-1)\n",
    "\n",
    "gbc_grid.fit(X_train, y_train)"
   ]
  },
  {
   "cell_type": "code",
   "execution_count": null,
   "metadata": {
    "colab": {
     "base_uri": "https://localhost:8080/"
    },
    "id": "Qv_UzgTOkFuI",
    "outputId": "9b1ef49a-396c-401e-f18d-1d8bfb5c02ef"
   },
   "outputs": [],
   "source": [
    "gbc_grid.best_params_"
   ]
  },
  {
   "cell_type": "code",
   "execution_count": null,
   "metadata": {
    "colab": {
     "base_uri": "https://localhost:8080/",
     "height": 885
    },
    "id": "0Vg1RVM9T0nC",
    "outputId": "0b260bab-62a7-4687-ad92-33f8483215b6"
   },
   "outputs": [],
   "source": [
    "get_scores(gbc_grid, X_train, X_test, y_train, y_test, verbose=True)\n",
    "get_class_report(gbc_grid, X_train, X_test, y_train, y_test)\n",
    "ax1 = plt.subplot(121)\n",
    "plot_confusion_matrix(gbc_grid, X_train, y_train, values_format='.2f', ax=ax1, cmap='mako')\n",
    "plt.title('Training Data')\n",
    "\n",
    "ax2 = plt.subplot(122)\n",
    "plot_confusion_matrix(gbc_grid, X_test, y_test, values_format='.2f', ax=ax2, cmap='mako')\n",
    "plt.title('Test Data')\n",
    "\n",
    "plt.tight_layout()\n",
    "plt.show()"
   ]
  },
  {
   "cell_type": "code",
   "execution_count": null,
   "metadata": {
    "colab": {
     "base_uri": "https://localhost:8080/",
     "height": 348
    },
    "id": "msYnq3EVqDvY",
    "outputId": "7112b1e0-0f42-4643-a77b-e85c4944c5c4"
   },
   "outputs": [],
   "source": [
    "gbc_feature_importances = pd.DataFrame({'columns': X_train.columns, 'importance scores':gbc_grid.best_estimator_.feature_importances_}).sort_values(\n",
    "    by='importance scores', ascending=False)\n",
    "\n",
    "gbc_feature_importances.head(10)"
   ]
  },
  {
   "cell_type": "markdown",
   "metadata": {
    "id": "ZtzSN_P-lCkA"
   },
   "source": [
    "# XGBoost Classifier\n",
    "\n",
    "To look how well the model fits and the `feature_importances`"
   ]
  },
  {
   "cell_type": "code",
   "execution_count": null,
   "metadata": {
    "colab": {
     "base_uri": "https://localhost:8080/"
    },
    "id": "YBeuNe6ZmYaQ",
    "outputId": "bc256f0c-ac15-4b7a-d191-c38785d6786a"
   },
   "outputs": [],
   "source": [
    "xgb = XGBClassifier(n_iter_no_change=50, n_estimators=1000)\n",
    "\n",
    "params = {'learning_rate': np.arange(0.025, 0.125, 0.25),\n",
    "          'max_depth': [3],\n",
    "          'subsample': np.arange(0.4, 1.1,0.2),\n",
    "          'max_features': [None, 'sqrt']}\n",
    "\n",
    "xgb_grid = GridSearchCV(xgb, params, cv=3, scoring='f1', n_jobs=-1)\n",
    "\n",
    "xgb_grid.fit(X_train, y_train)"
   ]
  },
  {
   "cell_type": "code",
   "execution_count": null,
   "metadata": {
    "colab": {
     "base_uri": "https://localhost:8080/"
    },
    "id": "8PLrN6Awi7m0",
    "outputId": "26bcf68c-bb96-4637-df41-3f263a090b6e"
   },
   "outputs": [],
   "source": [
    "xgb_grid.best_params_"
   ]
  },
  {
   "cell_type": "code",
   "execution_count": null,
   "metadata": {
    "colab": {
     "base_uri": "https://localhost:8080/",
     "height": 885
    },
    "id": "QHmOWapMVG6z",
    "outputId": "4b6a8196-3648-4a61-cb76-ea8016d3b550"
   },
   "outputs": [],
   "source": [
    "get_scores(xgb_grid, X_train, X_test, y_train, y_test, verbose=True)\n",
    "get_class_report(xgb_grid, X_train, X_test, y_train, y_test)\n",
    "ax1 = plt.subplot(121)\n",
    "plot_confusion_matrix(xgb_grid, X_train, y_train, values_format='.2f', ax=ax1, cmap='mako')\n",
    "plt.title('Training Data')\n",
    "\n",
    "ax2 = plt.subplot(122)\n",
    "plot_confusion_matrix(xgb_grid, X_test, y_test, values_format='.2f', ax=ax2, cmap='mako')\n",
    "plt.title('Test Data')\n",
    "\n",
    "plt.tight_layout()\n",
    "plt.show()"
   ]
  },
  {
   "cell_type": "code",
   "execution_count": null,
   "metadata": {
    "colab": {
     "base_uri": "https://localhost:8080/",
     "height": 348
    },
    "id": "JzSri0j5njkW",
    "outputId": "ea405c34-8a46-45ec-a8f5-c79258801769"
   },
   "outputs": [],
   "source": [
    "xgb_feature_importances = pd.DataFrame({'columns': X_train.columns, 'importance scores':xgb_grid.best_estimator_.feature_importances_}).sort_values(\n",
    "    by='importance scores', ascending=False)\n",
    "\n",
    "xgb_feature_importances.head(10)"
   ]
  },
  {
   "cell_type": "markdown",
   "metadata": {
    "id": "tsMRFoQlp8Am"
   },
   "source": [
    "#Important Features\n",
    "\n",
    "Take the top 10 features from each model to make a `best_features` list and run the model again to see how it fairs."
   ]
  },
  {
   "cell_type": "code",
   "execution_count": null,
   "metadata": {
    "id": "mlsaBMzwyL_r"
   },
   "outputs": [],
   "source": [
    "best_features = []\n",
    "\n",
    "for feature in feature_svc_coef.nlargest(10).index:\n",
    "  best_features.append(feature)\n",
    "\n",
    "for feature in forest_feature_importances['columns'].head(10):\n",
    "  if feature not in best_features:\n",
    "    best_features.append(feature)\n",
    "\n",
    "for feature in gbc_feature_importances['columns'].head(10):\n",
    "  if feature not in best_features:\n",
    "    best_features.append(feature)\n",
    "\n",
    "for feature in xgb_feature_importances['columns'].head(10):\n",
    "  if feature not in best_features:\n",
    "    best_features.append(feature)"
   ]
  },
  {
   "cell_type": "code",
   "execution_count": null,
   "metadata": {
    "colab": {
     "base_uri": "https://localhost:8080/"
    },
    "id": "cqtxwgO90RmL",
    "outputId": "23438dd9-85f4-498e-ef26-542a983804d8"
   },
   "outputs": [],
   "source": [
    "best_features"
   ]
  },
  {
   "cell_type": "code",
   "execution_count": null,
   "metadata": {
    "id": "oINYPcDGxqll"
   },
   "outputs": [],
   "source": [
    "X_train_best = X_train[best_features]\n",
    "X_test_best = X_test[best_features]"
   ]
  },
  {
   "cell_type": "code",
   "execution_count": null,
   "metadata": {
    "colab": {
     "base_uri": "https://localhost:8080/"
    },
    "id": "JqoXjcXRzhvx",
    "outputId": "cae76941-b1aa-4e2c-b623-e617038fe87c"
   },
   "outputs": [],
   "source": [
    "xgb = XGBClassifier(n_iter_no_change=50, n_estimators=1000)\n",
    "\n",
    "params = {'learning_rate': np.arange(0.025, 0.125, 0.25),\n",
    "          'max_depth': [3],\n",
    "          'subsample': np.arange(0.4, 1.1,0.2),\n",
    "          'max_features': [None, 'sqrt']}\n",
    "\n",
    "xgb_best_grid = GridSearchCV(xgb, params, cv=3, scoring='f1', n_jobs=-1)\n",
    "\n",
    "xgb_best_grid.fit(X_train_best, y_train)"
   ]
  },
  {
   "cell_type": "code",
   "execution_count": null,
   "metadata": {
    "colab": {
     "base_uri": "https://localhost:8080/"
    },
    "id": "QacK8IfZ0EOh",
    "outputId": "1ded243b-39ba-4599-edd1-10fa27c06726"
   },
   "outputs": [],
   "source": [
    "xgb_best_grid.best_params_"
   ]
  },
  {
   "cell_type": "code",
   "execution_count": null,
   "metadata": {
    "colab": {
     "base_uri": "https://localhost:8080/",
     "height": 885
    },
    "id": "Zns-RAiz0EOp",
    "outputId": "b967dd73-286c-4a7b-bed9-fa415f6295f2"
   },
   "outputs": [],
   "source": [
    "get_scores(xgb_best_grid, X_train_best, X_test_best, y_train, y_test, verbose=True)\n",
    "get_class_report(xgb_best_grid, X_train_best, X_test_best, y_train, y_test)\n",
    "ax1 = plt.subplot(121)\n",
    "plot_confusion_matrix(xgb_best_grid, X_train_best, y_train, values_format='.2f', ax=ax1, cmap='mako')\n",
    "plt.title('Training Data')\n",
    "\n",
    "ax2 = plt.subplot(122)\n",
    "plot_confusion_matrix(xgb_best_grid, X_test_best, y_test, values_format='.2f', ax=ax2, cmap='mako')\n",
    "plt.title('Test Data')\n",
    "\n",
    "plt.tight_layout()\n",
    "plt.show()"
   ]
  },
  {
   "cell_type": "code",
   "execution_count": null,
   "metadata": {
    "id": "wpg2dZftFbOZ"
   },
   "outputs": [],
   "source": [
    "smote = SMOTEENN(sampling_strategy=0.75)\n",
    "\n",
    "X_train_best_samp, y_train_samp = smote.fit_resample(X_train_best, y_train)"
   ]
  },
  {
   "cell_type": "code",
   "execution_count": null,
   "metadata": {
    "colab": {
     "base_uri": "https://localhost:8080/"
    },
    "id": "1Lx39WNsFbbD",
    "outputId": "c92f4f56-081d-40d9-92b3-a51b6221ba85"
   },
   "outputs": [],
   "source": [
    "xgb = XGBClassifier(n_iter_no_change=50, n_estimators=1000)\n",
    "\n",
    "params = {'learning_rate': np.arange(0.025, 0.125, 0.25),\n",
    "          'max_depth': [3],\n",
    "          'subsample': np.arange(0.4, 1.1,0.2),\n",
    "          'max_features': [None, 'sqrt']}\n",
    "\n",
    "xgb_best_samp_grid = GridSearchCV(xgb, params, cv=3, scoring='f1', n_jobs=-1)\n",
    "\n",
    "xgb_best_samp_grid.fit(X_train_best_samp, y_train_samp)"
   ]
  },
  {
   "cell_type": "code",
   "execution_count": null,
   "metadata": {
    "colab": {
     "base_uri": "https://localhost:8080/"
    },
    "id": "kFVByVjOFbbH",
    "outputId": "50689a29-1426-4974-fbab-33e82162ec5f"
   },
   "outputs": [],
   "source": [
    "xgb_best_samp_grid.best_params_"
   ]
  },
  {
   "cell_type": "code",
   "execution_count": null,
   "metadata": {
    "colab": {
     "base_uri": "https://localhost:8080/",
     "height": 885
    },
    "id": "kJFJ94_YFbbL",
    "outputId": "426620c9-5fc1-4d74-8032-32aa500994c7"
   },
   "outputs": [],
   "source": [
    "get_scores(xgb_best_samp_grid, X_train_best_samp, np.array(X_test_best), y_train_samp, y_test, verbose=True)\n",
    "get_class_report(xgb_best_samp_grid, X_train_best_samp, np.array(X_test_best), y_train_samp, y_test)\n",
    "ax1 = plt.subplot(121)\n",
    "plot_confusion_matrix(xgb_best_samp_grid, X_train_best_samp, y_train_samp, values_format='.2f', ax=ax1, cmap='mako')\n",
    "plt.title('Training Data')\n",
    "\n",
    "ax2 = plt.subplot(122)\n",
    "plot_confusion_matrix(xgb_best_samp_grid, np.array(X_test_best), y_test, values_format='.2f', ax=ax2, cmap='mako')\n",
    "plt.title('Test Data')\n",
    "\n",
    "plt.tight_layout()\n",
    "plt.show()"
   ]
  },
  {
   "cell_type": "markdown",
   "metadata": {
    "id": "7jZxjEU1nRUd"
   },
   "source": [
    "# Conclusion"
   ]
  },
  {
   "cell_type": "markdown",
   "metadata": {
    "id": "8o6SUKA20eiB"
   },
   "source": [
    "No one model truly out performed the others in this testing. Each did fairly well to predict the test set with test accuracies of 0.84 for all but the SVC model (which got 0.8). However, accuracy isn't everything and the recall for most of the model suffer due to the class imbalance of the data set. When trying to account for this with resampling, the precision decreases drastically for the models. So, depending on which is most important, recall or precision, either method could be used."
   ]
  },
  {
   "cell_type": "markdown",
   "metadata": {
    "id": "XF5z4jnvBj9t"
   },
   "source": [
    "Besides the demographic values that clearly matter when it comes to determining whether someone will vote or not, with age being clearly the most important of these features, there were a few features that appeared in each of the model's feature_importances lists. \n",
    "\n",
    "The most important of these, unsurprisingly, is `Q20`, which is whether someone has registered to vote or not. Clearly it goes without saying that being registered is a very important metric for voter turnout. Clearly having more incentives to ensure people are registered to vote is in order. \n",
    "\n",
    "`Q18_3` is similar to this as it shows those who missed voting registration deadlines.\n",
    "\n",
    "`Q2_1` asked the respondants how important the elections are. `Q25` askes how much they paid attention to the election. So, having an interest and understanding how important the elections are is an indicator of someone interest in voting.\n",
    "\n",
    "`Q16` is an interesting question, as it asks how easy or difficult it is to vote. So, efforts in making voting easier could greatly influence voter turnout, or at least changing people impressions of its difficulty could. \n",
    "\n"
   ]
  }
 ],
 "metadata": {
  "accelerator": "TPU",
  "colab": {
   "name": "Analysis of Voters vs Non-Voters Data.ipynb",
   "provenance": []
  },
  "kernelspec": {
   "display_name": "Python 3",
   "language": "python",
   "name": "python3"
  },
  "language_info": {
   "codemirror_mode": {
    "name": "ipython",
    "version": 3
   },
   "file_extension": ".py",
   "mimetype": "text/x-python",
   "name": "python",
   "nbconvert_exporter": "python",
   "pygments_lexer": "ipython3",
   "version": "3.8.3"
  }
 },
 "nbformat": 4,
 "nbformat_minor": 1
}
